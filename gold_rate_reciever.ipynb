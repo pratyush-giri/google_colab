{
  "nbformat": 4,
  "nbformat_minor": 0,
  "metadata": {
    "colab": {
      "name": "gold_rate_reciever.ipynb",
      "provenance": []
    },
    "kernelspec": {
      "name": "python3",
      "display_name": "Python 3"
    },
    "language_info": {
      "name": "python"
    }
  },
  "cells": [
    {
      "cell_type": "code",
      "execution_count": null,
      "metadata": {
        "id": "52AlKxTx2tAC"
      },
      "outputs": [],
      "source": [
        "# Core\n",
        "import sys\n",
        "import pandas as pd\n",
        "import numpy as np\n",
        "import os\n",
        "import time\n",
        "import math\n",
        "from datetime import date,datetime,timedelta\n",
        "\n",
        "# Visualization\n",
        "import matplotlib.pyplot as plt\n",
        "import seaborn as sns\n",
        "from plotly import graph_objs as go\n",
        "%matplotlib inline\n",
        "\n",
        "pd.options.mode.chained_assignment = None"
      ]
    },
    {
      "cell_type": "code",
      "source": [
        "import warnings\n",
        "warnings.filterwarnings('ignore')"
      ],
      "metadata": {
        "id": "rdZcI7783eX7"
      },
      "execution_count": null,
      "outputs": []
    },
    {
      "cell_type": "code",
      "source": [
        "daily = pd.read_csv('daily_gold_rate.csv')\n",
        "annual = pd.read_csv('annual_gold_rate.csv')"
      ],
      "metadata": {
        "id": "BxQZDzZl3iiI"
      },
      "execution_count": null,
      "outputs": []
    },
    {
      "cell_type": "code",
      "source": [
        "daily.head()"
      ],
      "metadata": {
        "colab": {
          "base_uri": "https://localhost:8080/",
          "height": 205
        },
        "id": "cymo07a_3mHa",
        "outputId": "c9d4b849-cb92-4982-d391-a51966b5c191"
      },
      "execution_count": null,
      "outputs": [
        {
          "output_type": "execute_result",
          "data": {
            "text/plain": [
              "         Date     USD     EUR     GBP      INR      AED    CNY\n",
              "0  1985-01-01  308.30  402.45  266.01  3825.85  1134.42    NaN\n",
              "1  1985-01-02  305.50  401.49  266.00  3787.05  1134.42    NaN\n",
              "2  1985-01-03  302.30  397.08  262.76  3718.88  1107.67    NaN\n",
              "3  1985-01-04  303.15  397.15  262.58  3759.64  1118.21    NaN\n",
              "4  1985-01-07  298.25  392.55  261.17  3741.23  1091.58  835.8"
            ],
            "text/html": [
              "\n",
              "  <div id=\"df-725db3d5-3113-4ff2-9167-9c06e8b07e20\">\n",
              "    <div class=\"colab-df-container\">\n",
              "      <div>\n",
              "<style scoped>\n",
              "    .dataframe tbody tr th:only-of-type {\n",
              "        vertical-align: middle;\n",
              "    }\n",
              "\n",
              "    .dataframe tbody tr th {\n",
              "        vertical-align: top;\n",
              "    }\n",
              "\n",
              "    .dataframe thead th {\n",
              "        text-align: right;\n",
              "    }\n",
              "</style>\n",
              "<table border=\"1\" class=\"dataframe\">\n",
              "  <thead>\n",
              "    <tr style=\"text-align: right;\">\n",
              "      <th></th>\n",
              "      <th>Date</th>\n",
              "      <th>USD</th>\n",
              "      <th>EUR</th>\n",
              "      <th>GBP</th>\n",
              "      <th>INR</th>\n",
              "      <th>AED</th>\n",
              "      <th>CNY</th>\n",
              "    </tr>\n",
              "  </thead>\n",
              "  <tbody>\n",
              "    <tr>\n",
              "      <th>0</th>\n",
              "      <td>1985-01-01</td>\n",
              "      <td>308.30</td>\n",
              "      <td>402.45</td>\n",
              "      <td>266.01</td>\n",
              "      <td>3825.85</td>\n",
              "      <td>1134.42</td>\n",
              "      <td>NaN</td>\n",
              "    </tr>\n",
              "    <tr>\n",
              "      <th>1</th>\n",
              "      <td>1985-01-02</td>\n",
              "      <td>305.50</td>\n",
              "      <td>401.49</td>\n",
              "      <td>266.00</td>\n",
              "      <td>3787.05</td>\n",
              "      <td>1134.42</td>\n",
              "      <td>NaN</td>\n",
              "    </tr>\n",
              "    <tr>\n",
              "      <th>2</th>\n",
              "      <td>1985-01-03</td>\n",
              "      <td>302.30</td>\n",
              "      <td>397.08</td>\n",
              "      <td>262.76</td>\n",
              "      <td>3718.88</td>\n",
              "      <td>1107.67</td>\n",
              "      <td>NaN</td>\n",
              "    </tr>\n",
              "    <tr>\n",
              "      <th>3</th>\n",
              "      <td>1985-01-04</td>\n",
              "      <td>303.15</td>\n",
              "      <td>397.15</td>\n",
              "      <td>262.58</td>\n",
              "      <td>3759.64</td>\n",
              "      <td>1118.21</td>\n",
              "      <td>NaN</td>\n",
              "    </tr>\n",
              "    <tr>\n",
              "      <th>4</th>\n",
              "      <td>1985-01-07</td>\n",
              "      <td>298.25</td>\n",
              "      <td>392.55</td>\n",
              "      <td>261.17</td>\n",
              "      <td>3741.23</td>\n",
              "      <td>1091.58</td>\n",
              "      <td>835.8</td>\n",
              "    </tr>\n",
              "  </tbody>\n",
              "</table>\n",
              "</div>\n",
              "      <button class=\"colab-df-convert\" onclick=\"convertToInteractive('df-725db3d5-3113-4ff2-9167-9c06e8b07e20')\"\n",
              "              title=\"Convert this dataframe to an interactive table.\"\n",
              "              style=\"display:none;\">\n",
              "        \n",
              "  <svg xmlns=\"http://www.w3.org/2000/svg\" height=\"24px\"viewBox=\"0 0 24 24\"\n",
              "       width=\"24px\">\n",
              "    <path d=\"M0 0h24v24H0V0z\" fill=\"none\"/>\n",
              "    <path d=\"M18.56 5.44l.94 2.06.94-2.06 2.06-.94-2.06-.94-.94-2.06-.94 2.06-2.06.94zm-11 1L8.5 8.5l.94-2.06 2.06-.94-2.06-.94L8.5 2.5l-.94 2.06-2.06.94zm10 10l.94 2.06.94-2.06 2.06-.94-2.06-.94-.94-2.06-.94 2.06-2.06.94z\"/><path d=\"M17.41 7.96l-1.37-1.37c-.4-.4-.92-.59-1.43-.59-.52 0-1.04.2-1.43.59L10.3 9.45l-7.72 7.72c-.78.78-.78 2.05 0 2.83L4 21.41c.39.39.9.59 1.41.59.51 0 1.02-.2 1.41-.59l7.78-7.78 2.81-2.81c.8-.78.8-2.07 0-2.86zM5.41 20L4 18.59l7.72-7.72 1.47 1.35L5.41 20z\"/>\n",
              "  </svg>\n",
              "      </button>\n",
              "      \n",
              "  <style>\n",
              "    .colab-df-container {\n",
              "      display:flex;\n",
              "      flex-wrap:wrap;\n",
              "      gap: 12px;\n",
              "    }\n",
              "\n",
              "    .colab-df-convert {\n",
              "      background-color: #E8F0FE;\n",
              "      border: none;\n",
              "      border-radius: 50%;\n",
              "      cursor: pointer;\n",
              "      display: none;\n",
              "      fill: #1967D2;\n",
              "      height: 32px;\n",
              "      padding: 0 0 0 0;\n",
              "      width: 32px;\n",
              "    }\n",
              "\n",
              "    .colab-df-convert:hover {\n",
              "      background-color: #E2EBFA;\n",
              "      box-shadow: 0px 1px 2px rgba(60, 64, 67, 0.3), 0px 1px 3px 1px rgba(60, 64, 67, 0.15);\n",
              "      fill: #174EA6;\n",
              "    }\n",
              "\n",
              "    [theme=dark] .colab-df-convert {\n",
              "      background-color: #3B4455;\n",
              "      fill: #D2E3FC;\n",
              "    }\n",
              "\n",
              "    [theme=dark] .colab-df-convert:hover {\n",
              "      background-color: #434B5C;\n",
              "      box-shadow: 0px 1px 3px 1px rgba(0, 0, 0, 0.15);\n",
              "      filter: drop-shadow(0px 1px 2px rgba(0, 0, 0, 0.3));\n",
              "      fill: #FFFFFF;\n",
              "    }\n",
              "  </style>\n",
              "\n",
              "      <script>\n",
              "        const buttonEl =\n",
              "          document.querySelector('#df-725db3d5-3113-4ff2-9167-9c06e8b07e20 button.colab-df-convert');\n",
              "        buttonEl.style.display =\n",
              "          google.colab.kernel.accessAllowed ? 'block' : 'none';\n",
              "\n",
              "        async function convertToInteractive(key) {\n",
              "          const element = document.querySelector('#df-725db3d5-3113-4ff2-9167-9c06e8b07e20');\n",
              "          const dataTable =\n",
              "            await google.colab.kernel.invokeFunction('convertToInteractive',\n",
              "                                                     [key], {});\n",
              "          if (!dataTable) return;\n",
              "\n",
              "          const docLinkHtml = 'Like what you see? Visit the ' +\n",
              "            '<a target=\"_blank\" href=https://colab.research.google.com/notebooks/data_table.ipynb>data table notebook</a>'\n",
              "            + ' to learn more about interactive tables.';\n",
              "          element.innerHTML = '';\n",
              "          dataTable['output_type'] = 'display_data';\n",
              "          await google.colab.output.renderOutput(dataTable, element);\n",
              "          const docLink = document.createElement('div');\n",
              "          docLink.innerHTML = docLinkHtml;\n",
              "          element.appendChild(docLink);\n",
              "        }\n",
              "      </script>\n",
              "    </div>\n",
              "  </div>\n",
              "  "
            ]
          },
          "metadata": {},
          "execution_count": 5
        }
      ]
    },
    {
      "cell_type": "code",
      "source": [
        "daily.info()"
      ],
      "metadata": {
        "colab": {
          "base_uri": "https://localhost:8080/"
        },
        "id": "8TFlQKdH31-M",
        "outputId": "7998ad54-65da-439b-9a97-ea82a83864ef"
      },
      "execution_count": null,
      "outputs": [
        {
          "output_type": "stream",
          "name": "stdout",
          "text": [
            "<class 'pandas.core.frame.DataFrame'>\n",
            "RangeIndex: 9714 entries, 0 to 9713\n",
            "Data columns (total 7 columns):\n",
            " #   Column  Non-Null Count  Dtype  \n",
            "---  ------  --------------  -----  \n",
            " 0   Date    9714 non-null   object \n",
            " 1   USD     9714 non-null   float64\n",
            " 2   EUR     9714 non-null   float64\n",
            " 3   GBP     9714 non-null   float64\n",
            " 4   INR     9714 non-null   float64\n",
            " 5   AED     9714 non-null   float64\n",
            " 6   CNY     9710 non-null   float64\n",
            "dtypes: float64(6), object(1)\n",
            "memory usage: 531.4+ KB\n"
          ]
        }
      ]
    },
    {
      "cell_type": "code",
      "source": [
        "daily.describe()"
      ],
      "metadata": {
        "colab": {
          "base_uri": "https://localhost:8080/",
          "height": 299
        },
        "id": "ytQfDtY-36CO",
        "outputId": "f52fa1a9-05e9-4941-b43a-374638192bb7"
      },
      "execution_count": null,
      "outputs": [
        {
          "output_type": "execute_result",
          "data": {
            "text/plain": [
              "               USD          EUR          GBP            INR          AED  \\\n",
              "count  9714.000000  9714.000000  9714.000000    9714.000000  9714.000000   \n",
              "mean    756.117006   625.441514   500.862103   39552.116958  2777.031055   \n",
              "std     510.826310   415.971087   375.932133   38595.686908  1876.433314   \n",
              "min     252.800000   222.200000   157.150000    3687.170000   928.530000   \n",
              "25%     354.000000   305.272500   219.602500   11601.020000  1298.662500   \n",
              "50%     425.750000   362.995000   259.565000   17068.540000  1563.645000   \n",
              "75%    1235.987500  1017.935000   824.057500   76038.925000  4539.797500   \n",
              "max    2067.150000  1874.560000  1572.810000  156815.690000  7592.950000   \n",
              "\n",
              "                CNY  \n",
              "count   9710.000000  \n",
              "mean    4995.334317  \n",
              "std     3385.204958  \n",
              "min      809.630000  \n",
              "25%     2189.807500  \n",
              "50%     3312.715000  \n",
              "75%     8101.902500  \n",
              "max    14355.530000  "
            ],
            "text/html": [
              "\n",
              "  <div id=\"df-8f24452d-6572-4d7c-bfc8-cf6b1ed4ce06\">\n",
              "    <div class=\"colab-df-container\">\n",
              "      <div>\n",
              "<style scoped>\n",
              "    .dataframe tbody tr th:only-of-type {\n",
              "        vertical-align: middle;\n",
              "    }\n",
              "\n",
              "    .dataframe tbody tr th {\n",
              "        vertical-align: top;\n",
              "    }\n",
              "\n",
              "    .dataframe thead th {\n",
              "        text-align: right;\n",
              "    }\n",
              "</style>\n",
              "<table border=\"1\" class=\"dataframe\">\n",
              "  <thead>\n",
              "    <tr style=\"text-align: right;\">\n",
              "      <th></th>\n",
              "      <th>USD</th>\n",
              "      <th>EUR</th>\n",
              "      <th>GBP</th>\n",
              "      <th>INR</th>\n",
              "      <th>AED</th>\n",
              "      <th>CNY</th>\n",
              "    </tr>\n",
              "  </thead>\n",
              "  <tbody>\n",
              "    <tr>\n",
              "      <th>count</th>\n",
              "      <td>9714.000000</td>\n",
              "      <td>9714.000000</td>\n",
              "      <td>9714.000000</td>\n",
              "      <td>9714.000000</td>\n",
              "      <td>9714.000000</td>\n",
              "      <td>9710.000000</td>\n",
              "    </tr>\n",
              "    <tr>\n",
              "      <th>mean</th>\n",
              "      <td>756.117006</td>\n",
              "      <td>625.441514</td>\n",
              "      <td>500.862103</td>\n",
              "      <td>39552.116958</td>\n",
              "      <td>2777.031055</td>\n",
              "      <td>4995.334317</td>\n",
              "    </tr>\n",
              "    <tr>\n",
              "      <th>std</th>\n",
              "      <td>510.826310</td>\n",
              "      <td>415.971087</td>\n",
              "      <td>375.932133</td>\n",
              "      <td>38595.686908</td>\n",
              "      <td>1876.433314</td>\n",
              "      <td>3385.204958</td>\n",
              "    </tr>\n",
              "    <tr>\n",
              "      <th>min</th>\n",
              "      <td>252.800000</td>\n",
              "      <td>222.200000</td>\n",
              "      <td>157.150000</td>\n",
              "      <td>3687.170000</td>\n",
              "      <td>928.530000</td>\n",
              "      <td>809.630000</td>\n",
              "    </tr>\n",
              "    <tr>\n",
              "      <th>25%</th>\n",
              "      <td>354.000000</td>\n",
              "      <td>305.272500</td>\n",
              "      <td>219.602500</td>\n",
              "      <td>11601.020000</td>\n",
              "      <td>1298.662500</td>\n",
              "      <td>2189.807500</td>\n",
              "    </tr>\n",
              "    <tr>\n",
              "      <th>50%</th>\n",
              "      <td>425.750000</td>\n",
              "      <td>362.995000</td>\n",
              "      <td>259.565000</td>\n",
              "      <td>17068.540000</td>\n",
              "      <td>1563.645000</td>\n",
              "      <td>3312.715000</td>\n",
              "    </tr>\n",
              "    <tr>\n",
              "      <th>75%</th>\n",
              "      <td>1235.987500</td>\n",
              "      <td>1017.935000</td>\n",
              "      <td>824.057500</td>\n",
              "      <td>76038.925000</td>\n",
              "      <td>4539.797500</td>\n",
              "      <td>8101.902500</td>\n",
              "    </tr>\n",
              "    <tr>\n",
              "      <th>max</th>\n",
              "      <td>2067.150000</td>\n",
              "      <td>1874.560000</td>\n",
              "      <td>1572.810000</td>\n",
              "      <td>156815.690000</td>\n",
              "      <td>7592.950000</td>\n",
              "      <td>14355.530000</td>\n",
              "    </tr>\n",
              "  </tbody>\n",
              "</table>\n",
              "</div>\n",
              "      <button class=\"colab-df-convert\" onclick=\"convertToInteractive('df-8f24452d-6572-4d7c-bfc8-cf6b1ed4ce06')\"\n",
              "              title=\"Convert this dataframe to an interactive table.\"\n",
              "              style=\"display:none;\">\n",
              "        \n",
              "  <svg xmlns=\"http://www.w3.org/2000/svg\" height=\"24px\"viewBox=\"0 0 24 24\"\n",
              "       width=\"24px\">\n",
              "    <path d=\"M0 0h24v24H0V0z\" fill=\"none\"/>\n",
              "    <path d=\"M18.56 5.44l.94 2.06.94-2.06 2.06-.94-2.06-.94-.94-2.06-.94 2.06-2.06.94zm-11 1L8.5 8.5l.94-2.06 2.06-.94-2.06-.94L8.5 2.5l-.94 2.06-2.06.94zm10 10l.94 2.06.94-2.06 2.06-.94-2.06-.94-.94-2.06-.94 2.06-2.06.94z\"/><path d=\"M17.41 7.96l-1.37-1.37c-.4-.4-.92-.59-1.43-.59-.52 0-1.04.2-1.43.59L10.3 9.45l-7.72 7.72c-.78.78-.78 2.05 0 2.83L4 21.41c.39.39.9.59 1.41.59.51 0 1.02-.2 1.41-.59l7.78-7.78 2.81-2.81c.8-.78.8-2.07 0-2.86zM5.41 20L4 18.59l7.72-7.72 1.47 1.35L5.41 20z\"/>\n",
              "  </svg>\n",
              "      </button>\n",
              "      \n",
              "  <style>\n",
              "    .colab-df-container {\n",
              "      display:flex;\n",
              "      flex-wrap:wrap;\n",
              "      gap: 12px;\n",
              "    }\n",
              "\n",
              "    .colab-df-convert {\n",
              "      background-color: #E8F0FE;\n",
              "      border: none;\n",
              "      border-radius: 50%;\n",
              "      cursor: pointer;\n",
              "      display: none;\n",
              "      fill: #1967D2;\n",
              "      height: 32px;\n",
              "      padding: 0 0 0 0;\n",
              "      width: 32px;\n",
              "    }\n",
              "\n",
              "    .colab-df-convert:hover {\n",
              "      background-color: #E2EBFA;\n",
              "      box-shadow: 0px 1px 2px rgba(60, 64, 67, 0.3), 0px 1px 3px 1px rgba(60, 64, 67, 0.15);\n",
              "      fill: #174EA6;\n",
              "    }\n",
              "\n",
              "    [theme=dark] .colab-df-convert {\n",
              "      background-color: #3B4455;\n",
              "      fill: #D2E3FC;\n",
              "    }\n",
              "\n",
              "    [theme=dark] .colab-df-convert:hover {\n",
              "      background-color: #434B5C;\n",
              "      box-shadow: 0px 1px 3px 1px rgba(0, 0, 0, 0.15);\n",
              "      filter: drop-shadow(0px 1px 2px rgba(0, 0, 0, 0.3));\n",
              "      fill: #FFFFFF;\n",
              "    }\n",
              "  </style>\n",
              "\n",
              "      <script>\n",
              "        const buttonEl =\n",
              "          document.querySelector('#df-8f24452d-6572-4d7c-bfc8-cf6b1ed4ce06 button.colab-df-convert');\n",
              "        buttonEl.style.display =\n",
              "          google.colab.kernel.accessAllowed ? 'block' : 'none';\n",
              "\n",
              "        async function convertToInteractive(key) {\n",
              "          const element = document.querySelector('#df-8f24452d-6572-4d7c-bfc8-cf6b1ed4ce06');\n",
              "          const dataTable =\n",
              "            await google.colab.kernel.invokeFunction('convertToInteractive',\n",
              "                                                     [key], {});\n",
              "          if (!dataTable) return;\n",
              "\n",
              "          const docLinkHtml = 'Like what you see? Visit the ' +\n",
              "            '<a target=\"_blank\" href=https://colab.research.google.com/notebooks/data_table.ipynb>data table notebook</a>'\n",
              "            + ' to learn more about interactive tables.';\n",
              "          element.innerHTML = '';\n",
              "          dataTable['output_type'] = 'display_data';\n",
              "          await google.colab.output.renderOutput(dataTable, element);\n",
              "          const docLink = document.createElement('div');\n",
              "          docLink.innerHTML = docLinkHtml;\n",
              "          element.appendChild(docLink);\n",
              "        }\n",
              "      </script>\n",
              "    </div>\n",
              "  </div>\n",
              "  "
            ]
          },
          "metadata": {},
          "execution_count": 7
        }
      ]
    },
    {
      "cell_type": "code",
      "source": [
        "daily = daily.fillna(0)"
      ],
      "metadata": {
        "id": "w43NpDYI3-Pp"
      },
      "execution_count": null,
      "outputs": []
    },
    {
      "cell_type": "code",
      "source": [
        "annual.info()"
      ],
      "metadata": {
        "colab": {
          "base_uri": "https://localhost:8080/"
        },
        "id": "THzy7z574pyO",
        "outputId": "2bbfa490-ea83-4313-c2c9-20c178bd9417"
      },
      "execution_count": null,
      "outputs": [
        {
          "output_type": "stream",
          "name": "stdout",
          "text": [
            "<class 'pandas.core.frame.DataFrame'>\n",
            "RangeIndex: 44 entries, 0 to 43\n",
            "Data columns (total 7 columns):\n",
            " #   Column  Non-Null Count  Dtype  \n",
            "---  ------  --------------  -----  \n",
            " 0   Date    44 non-null     int64  \n",
            " 1   USD     44 non-null     float64\n",
            " 2   EUR     44 non-null     float64\n",
            " 3   GBP     44 non-null     float64\n",
            " 4   INR     43 non-null     float64\n",
            " 5   AED     43 non-null     float64\n",
            " 6   CNY     37 non-null     float64\n",
            "dtypes: float64(6), int64(1)\n",
            "memory usage: 2.5 KB\n"
          ]
        }
      ]
    },
    {
      "cell_type": "code",
      "source": [
        "annual.describe()"
      ],
      "metadata": {
        "colab": {
          "base_uri": "https://localhost:8080/",
          "height": 299
        },
        "id": "dp57OKTQ4tTQ",
        "outputId": "b24d908a-d11e-4a99-9af4-c6c80fb7d4d6"
      },
      "execution_count": null,
      "outputs": [
        {
          "output_type": "execute_result",
          "data": {
            "text/plain": [
              "              Date          USD          EUR          GBP            INR  \\\n",
              "count    44.000000    44.000000    44.000000    44.000000      43.000000   \n",
              "mean   1999.500000   692.055909   571.891313   450.575615   34026.445973   \n",
              "std      12.845233   486.226172   395.398741   357.907845   37476.310663   \n",
              "min    1978.000000   193.440000   124.735800   100.654490    2481.905120   \n",
              "25%    1988.750000   360.540000   302.387860   215.853185    6423.166690   \n",
              "50%    1999.500000   416.415000   359.622620   249.850690   12788.438900   \n",
              "75%    2010.250000  1176.175000   932.098448   761.273783   64728.547700   \n",
              "max    2021.000000  1798.610000  1549.044710  1378.980990  132967.875100   \n",
              "\n",
              "               AED           CNY  \n",
              "count    43.000000     37.000000  \n",
              "mean   2585.786320   4950.991330  \n",
              "std    1783.571654   3377.322124  \n",
              "min     995.506180    926.645180  \n",
              "25%    1327.153290   2243.380520  \n",
              "50%    1557.457900   3306.274890  \n",
              "75%    4379.206195   8283.158470  \n",
              "max    6606.550460  12205.481970  "
            ],
            "text/html": [
              "\n",
              "  <div id=\"df-e0c9fdce-130e-47f4-8650-14341ae53f92\">\n",
              "    <div class=\"colab-df-container\">\n",
              "      <div>\n",
              "<style scoped>\n",
              "    .dataframe tbody tr th:only-of-type {\n",
              "        vertical-align: middle;\n",
              "    }\n",
              "\n",
              "    .dataframe tbody tr th {\n",
              "        vertical-align: top;\n",
              "    }\n",
              "\n",
              "    .dataframe thead th {\n",
              "        text-align: right;\n",
              "    }\n",
              "</style>\n",
              "<table border=\"1\" class=\"dataframe\">\n",
              "  <thead>\n",
              "    <tr style=\"text-align: right;\">\n",
              "      <th></th>\n",
              "      <th>Date</th>\n",
              "      <th>USD</th>\n",
              "      <th>EUR</th>\n",
              "      <th>GBP</th>\n",
              "      <th>INR</th>\n",
              "      <th>AED</th>\n",
              "      <th>CNY</th>\n",
              "    </tr>\n",
              "  </thead>\n",
              "  <tbody>\n",
              "    <tr>\n",
              "      <th>count</th>\n",
              "      <td>44.000000</td>\n",
              "      <td>44.000000</td>\n",
              "      <td>44.000000</td>\n",
              "      <td>44.000000</td>\n",
              "      <td>43.000000</td>\n",
              "      <td>43.000000</td>\n",
              "      <td>37.000000</td>\n",
              "    </tr>\n",
              "    <tr>\n",
              "      <th>mean</th>\n",
              "      <td>1999.500000</td>\n",
              "      <td>692.055909</td>\n",
              "      <td>571.891313</td>\n",
              "      <td>450.575615</td>\n",
              "      <td>34026.445973</td>\n",
              "      <td>2585.786320</td>\n",
              "      <td>4950.991330</td>\n",
              "    </tr>\n",
              "    <tr>\n",
              "      <th>std</th>\n",
              "      <td>12.845233</td>\n",
              "      <td>486.226172</td>\n",
              "      <td>395.398741</td>\n",
              "      <td>357.907845</td>\n",
              "      <td>37476.310663</td>\n",
              "      <td>1783.571654</td>\n",
              "      <td>3377.322124</td>\n",
              "    </tr>\n",
              "    <tr>\n",
              "      <th>min</th>\n",
              "      <td>1978.000000</td>\n",
              "      <td>193.440000</td>\n",
              "      <td>124.735800</td>\n",
              "      <td>100.654490</td>\n",
              "      <td>2481.905120</td>\n",
              "      <td>995.506180</td>\n",
              "      <td>926.645180</td>\n",
              "    </tr>\n",
              "    <tr>\n",
              "      <th>25%</th>\n",
              "      <td>1988.750000</td>\n",
              "      <td>360.540000</td>\n",
              "      <td>302.387860</td>\n",
              "      <td>215.853185</td>\n",
              "      <td>6423.166690</td>\n",
              "      <td>1327.153290</td>\n",
              "      <td>2243.380520</td>\n",
              "    </tr>\n",
              "    <tr>\n",
              "      <th>50%</th>\n",
              "      <td>1999.500000</td>\n",
              "      <td>416.415000</td>\n",
              "      <td>359.622620</td>\n",
              "      <td>249.850690</td>\n",
              "      <td>12788.438900</td>\n",
              "      <td>1557.457900</td>\n",
              "      <td>3306.274890</td>\n",
              "    </tr>\n",
              "    <tr>\n",
              "      <th>75%</th>\n",
              "      <td>2010.250000</td>\n",
              "      <td>1176.175000</td>\n",
              "      <td>932.098448</td>\n",
              "      <td>761.273783</td>\n",
              "      <td>64728.547700</td>\n",
              "      <td>4379.206195</td>\n",
              "      <td>8283.158470</td>\n",
              "    </tr>\n",
              "    <tr>\n",
              "      <th>max</th>\n",
              "      <td>2021.000000</td>\n",
              "      <td>1798.610000</td>\n",
              "      <td>1549.044710</td>\n",
              "      <td>1378.980990</td>\n",
              "      <td>132967.875100</td>\n",
              "      <td>6606.550460</td>\n",
              "      <td>12205.481970</td>\n",
              "    </tr>\n",
              "  </tbody>\n",
              "</table>\n",
              "</div>\n",
              "      <button class=\"colab-df-convert\" onclick=\"convertToInteractive('df-e0c9fdce-130e-47f4-8650-14341ae53f92')\"\n",
              "              title=\"Convert this dataframe to an interactive table.\"\n",
              "              style=\"display:none;\">\n",
              "        \n",
              "  <svg xmlns=\"http://www.w3.org/2000/svg\" height=\"24px\"viewBox=\"0 0 24 24\"\n",
              "       width=\"24px\">\n",
              "    <path d=\"M0 0h24v24H0V0z\" fill=\"none\"/>\n",
              "    <path d=\"M18.56 5.44l.94 2.06.94-2.06 2.06-.94-2.06-.94-.94-2.06-.94 2.06-2.06.94zm-11 1L8.5 8.5l.94-2.06 2.06-.94-2.06-.94L8.5 2.5l-.94 2.06-2.06.94zm10 10l.94 2.06.94-2.06 2.06-.94-2.06-.94-.94-2.06-.94 2.06-2.06.94z\"/><path d=\"M17.41 7.96l-1.37-1.37c-.4-.4-.92-.59-1.43-.59-.52 0-1.04.2-1.43.59L10.3 9.45l-7.72 7.72c-.78.78-.78 2.05 0 2.83L4 21.41c.39.39.9.59 1.41.59.51 0 1.02-.2 1.41-.59l7.78-7.78 2.81-2.81c.8-.78.8-2.07 0-2.86zM5.41 20L4 18.59l7.72-7.72 1.47 1.35L5.41 20z\"/>\n",
              "  </svg>\n",
              "      </button>\n",
              "      \n",
              "  <style>\n",
              "    .colab-df-container {\n",
              "      display:flex;\n",
              "      flex-wrap:wrap;\n",
              "      gap: 12px;\n",
              "    }\n",
              "\n",
              "    .colab-df-convert {\n",
              "      background-color: #E8F0FE;\n",
              "      border: none;\n",
              "      border-radius: 50%;\n",
              "      cursor: pointer;\n",
              "      display: none;\n",
              "      fill: #1967D2;\n",
              "      height: 32px;\n",
              "      padding: 0 0 0 0;\n",
              "      width: 32px;\n",
              "    }\n",
              "\n",
              "    .colab-df-convert:hover {\n",
              "      background-color: #E2EBFA;\n",
              "      box-shadow: 0px 1px 2px rgba(60, 64, 67, 0.3), 0px 1px 3px 1px rgba(60, 64, 67, 0.15);\n",
              "      fill: #174EA6;\n",
              "    }\n",
              "\n",
              "    [theme=dark] .colab-df-convert {\n",
              "      background-color: #3B4455;\n",
              "      fill: #D2E3FC;\n",
              "    }\n",
              "\n",
              "    [theme=dark] .colab-df-convert:hover {\n",
              "      background-color: #434B5C;\n",
              "      box-shadow: 0px 1px 3px 1px rgba(0, 0, 0, 0.15);\n",
              "      filter: drop-shadow(0px 1px 2px rgba(0, 0, 0, 0.3));\n",
              "      fill: #FFFFFF;\n",
              "    }\n",
              "  </style>\n",
              "\n",
              "      <script>\n",
              "        const buttonEl =\n",
              "          document.querySelector('#df-e0c9fdce-130e-47f4-8650-14341ae53f92 button.colab-df-convert');\n",
              "        buttonEl.style.display =\n",
              "          google.colab.kernel.accessAllowed ? 'block' : 'none';\n",
              "\n",
              "        async function convertToInteractive(key) {\n",
              "          const element = document.querySelector('#df-e0c9fdce-130e-47f4-8650-14341ae53f92');\n",
              "          const dataTable =\n",
              "            await google.colab.kernel.invokeFunction('convertToInteractive',\n",
              "                                                     [key], {});\n",
              "          if (!dataTable) return;\n",
              "\n",
              "          const docLinkHtml = 'Like what you see? Visit the ' +\n",
              "            '<a target=\"_blank\" href=https://colab.research.google.com/notebooks/data_table.ipynb>data table notebook</a>'\n",
              "            + ' to learn more about interactive tables.';\n",
              "          element.innerHTML = '';\n",
              "          dataTable['output_type'] = 'display_data';\n",
              "          await google.colab.output.renderOutput(dataTable, element);\n",
              "          const docLink = document.createElement('div');\n",
              "          docLink.innerHTML = docLinkHtml;\n",
              "          element.appendChild(docLink);\n",
              "        }\n",
              "      </script>\n",
              "    </div>\n",
              "  </div>\n",
              "  "
            ]
          },
          "metadata": {},
          "execution_count": 10
        }
      ]
    },
    {
      "cell_type": "code",
      "source": [
        "annual = annual.fillna(0)\n",
        "annual"
      ],
      "metadata": {
        "colab": {
          "base_uri": "https://localhost:8080/",
          "height": 1000
        },
        "id": "7f_4jS_H4wfl",
        "outputId": "f6a01a89-c10a-4504-9774-d2d0b29c7d34"
      },
      "execution_count": null,
      "outputs": [
        {
          "output_type": "execute_result",
          "data": {
            "text/plain": [
              "    Date      USD         EUR         GBP           INR         AED  \\\n",
              "0   1978   193.44   124.73580   100.65449       0.00000     0.00000   \n",
              "1   1979   304.68   185.06142   143.09014    2481.90512  1163.93597   \n",
              "2   1980   614.50   378.19461   263.80259    4831.74943  2278.36795   \n",
              "3   1981   459.26   360.90588   227.01948    3966.64790  1691.03194   \n",
              "4   1982   375.30   345.59742   215.53232    3553.62680  1378.72895   \n",
              "5   1983   423.66   439.89318   279.24936    4270.42821  1557.45790   \n",
              "6   1984   360.78   425.91000   269.81553    4067.60433  1324.72272   \n",
              "7   1985   317.30   394.08922   246.28501    3887.39270  1162.19778   \n",
              "8   1986   367.85   351.34774   251.12483    4625.06990  1351.92474   \n",
              "9   1987   446.22   366.06607   272.49236    5761.91787  1641.52338   \n",
              "10  1988   436.86   352.12732   245.62804    6039.39391  1603.97099   \n",
              "11  1989   380.82   325.48985   232.74627    6148.71301  1399.80516   \n",
              "12  1990   383.56   282.94628   215.96014    6697.62037  1407.79204   \n",
              "13  1991   362.26   278.40720   205.50722    8225.74960  1329.58386   \n",
              "14  1992   343.95   253.37085   195.54612    9636.93952  1262.92339   \n",
              "15  1993   359.82   301.32700   239.71266   11203.55009  1322.04967   \n",
              "16  1994   384.15   319.36006   250.80356   12051.84810  1396.44400   \n",
              "17  1995   384.05   291.93644   243.34273   12439.26340  1410.56247   \n",
              "18  1996   387.87   300.88347   248.89782   13721.36060  1424.56482   \n",
              "19  1997   331.29   292.48136   202.37806   12006.07350  1216.71937   \n",
              "20  1998   294.09   264.28112   177.46076   12132.61060  1080.16664   \n",
              "21  1999   278.57   261.40884   172.09825   11994.16290  1023.18380   \n",
              "22  2000   279.10   302.74148   184.34200   12532.16120  1025.12139   \n",
              "23  2001   271.04   302.86333   188.25986   12788.43890   995.50618   \n",
              "24  2002   309.68   327.97053   206.13460   15041.97730  1137.44154   \n",
              "25  2003   363.32   321.23011   222.21281   16904.91050  1334.45640   \n",
              "26  2004   409.17   329.16103   223.37467   18523.91300  1502.86101   \n",
              "27  2005   444.45   358.33936   244.85235   19599.17860  1632.40021   \n",
              "28  2006   603.77   480.59317   327.68464   27358.63810  2217.61429   \n",
              "29  2007   695.39   506.81233   347.00424   28688.97280  2553.59494   \n",
              "30  2008   871.96   593.19118   471.59251   37767.56020  3202.59423   \n",
              "31  2009   972.35   697.01955   621.18976   47001.53200  3571.35929   \n",
              "32  2010  1224.52   925.18936   792.40733   55977.92560  4497.52269   \n",
              "33  2011  1571.52  1129.92459   980.75636   73479.16980  5772.12114   \n",
              "34  2012  1668.98  1298.71610  1052.98003   89078.50420  6130.16849   \n",
              "35  2013  1411.23  1063.76915   903.81239   82238.13700  5183.43387   \n",
              "36  2014  1266.40   952.82571   768.14916   77245.72030  4651.50598   \n",
              "37  2015  1160.06  1045.29709   758.98199   74347.36390  4260.88970   \n",
              "38  2016  1250.80  1129.45348   927.34224   84021.52800  4594.17704   \n",
              "39  2017  1257.15  1114.05904   976.05851   81863.62210  4617.44363   \n",
              "40  2018  1268.49  1073.69770   949.60552   86658.28200  4659.26967   \n",
              "41  2019  1392.60  1244.87505  1092.92560   98108.18300  5115.16917   \n",
              "42  2020  1769.59  1549.04471  1378.98099  131199.95540  6499.95290   \n",
              "43  2021  1798.61  1520.62257  1307.53174  132967.87510  6606.55046   \n",
              "\n",
              "            CNY  \n",
              "0       0.00000  \n",
              "1       0.00000  \n",
              "2       0.00000  \n",
              "3       0.00000  \n",
              "4       0.00000  \n",
              "5       0.00000  \n",
              "6       0.00000  \n",
              "7     926.64518  \n",
              "8    1272.38854  \n",
              "9    1659.60015  \n",
              "10   1626.12034  \n",
              "11   1434.30585  \n",
              "12   1827.11273  \n",
              "13   1927.40253  \n",
              "14   1902.41839  \n",
              "15   2077.19159  \n",
              "16   3306.27489  \n",
              "17   3206.92740  \n",
              "18   3224.91300  \n",
              "19   2746.44528  \n",
              "20   2434.72504  \n",
              "21   2306.10273  \n",
              "22   2310.52124  \n",
              "23   2243.38052  \n",
              "24   2563.18651  \n",
              "25   3007.22538  \n",
              "26   3386.57590  \n",
              "27   3639.50066  \n",
              "28   4813.31894  \n",
              "29   5284.58790  \n",
              "30   6064.27531  \n",
              "31   6642.12299  \n",
              "32   8283.15847  \n",
              "33  10148.41256  \n",
              "34  10529.51010  \n",
              "35   8683.84440  \n",
              "36   7802.19659  \n",
              "37   7285.48355  \n",
              "38   8306.04154  \n",
              "39   8494.75064  \n",
              "40   8379.74188  \n",
              "41   9634.22447  \n",
              "42  12205.48197  \n",
              "43  11600.56405  "
            ],
            "text/html": [
              "\n",
              "  <div id=\"df-926a47a5-ce07-490c-a832-3b0be0df629d\">\n",
              "    <div class=\"colab-df-container\">\n",
              "      <div>\n",
              "<style scoped>\n",
              "    .dataframe tbody tr th:only-of-type {\n",
              "        vertical-align: middle;\n",
              "    }\n",
              "\n",
              "    .dataframe tbody tr th {\n",
              "        vertical-align: top;\n",
              "    }\n",
              "\n",
              "    .dataframe thead th {\n",
              "        text-align: right;\n",
              "    }\n",
              "</style>\n",
              "<table border=\"1\" class=\"dataframe\">\n",
              "  <thead>\n",
              "    <tr style=\"text-align: right;\">\n",
              "      <th></th>\n",
              "      <th>Date</th>\n",
              "      <th>USD</th>\n",
              "      <th>EUR</th>\n",
              "      <th>GBP</th>\n",
              "      <th>INR</th>\n",
              "      <th>AED</th>\n",
              "      <th>CNY</th>\n",
              "    </tr>\n",
              "  </thead>\n",
              "  <tbody>\n",
              "    <tr>\n",
              "      <th>0</th>\n",
              "      <td>1978</td>\n",
              "      <td>193.44</td>\n",
              "      <td>124.73580</td>\n",
              "      <td>100.65449</td>\n",
              "      <td>0.00000</td>\n",
              "      <td>0.00000</td>\n",
              "      <td>0.00000</td>\n",
              "    </tr>\n",
              "    <tr>\n",
              "      <th>1</th>\n",
              "      <td>1979</td>\n",
              "      <td>304.68</td>\n",
              "      <td>185.06142</td>\n",
              "      <td>143.09014</td>\n",
              "      <td>2481.90512</td>\n",
              "      <td>1163.93597</td>\n",
              "      <td>0.00000</td>\n",
              "    </tr>\n",
              "    <tr>\n",
              "      <th>2</th>\n",
              "      <td>1980</td>\n",
              "      <td>614.50</td>\n",
              "      <td>378.19461</td>\n",
              "      <td>263.80259</td>\n",
              "      <td>4831.74943</td>\n",
              "      <td>2278.36795</td>\n",
              "      <td>0.00000</td>\n",
              "    </tr>\n",
              "    <tr>\n",
              "      <th>3</th>\n",
              "      <td>1981</td>\n",
              "      <td>459.26</td>\n",
              "      <td>360.90588</td>\n",
              "      <td>227.01948</td>\n",
              "      <td>3966.64790</td>\n",
              "      <td>1691.03194</td>\n",
              "      <td>0.00000</td>\n",
              "    </tr>\n",
              "    <tr>\n",
              "      <th>4</th>\n",
              "      <td>1982</td>\n",
              "      <td>375.30</td>\n",
              "      <td>345.59742</td>\n",
              "      <td>215.53232</td>\n",
              "      <td>3553.62680</td>\n",
              "      <td>1378.72895</td>\n",
              "      <td>0.00000</td>\n",
              "    </tr>\n",
              "    <tr>\n",
              "      <th>5</th>\n",
              "      <td>1983</td>\n",
              "      <td>423.66</td>\n",
              "      <td>439.89318</td>\n",
              "      <td>279.24936</td>\n",
              "      <td>4270.42821</td>\n",
              "      <td>1557.45790</td>\n",
              "      <td>0.00000</td>\n",
              "    </tr>\n",
              "    <tr>\n",
              "      <th>6</th>\n",
              "      <td>1984</td>\n",
              "      <td>360.78</td>\n",
              "      <td>425.91000</td>\n",
              "      <td>269.81553</td>\n",
              "      <td>4067.60433</td>\n",
              "      <td>1324.72272</td>\n",
              "      <td>0.00000</td>\n",
              "    </tr>\n",
              "    <tr>\n",
              "      <th>7</th>\n",
              "      <td>1985</td>\n",
              "      <td>317.30</td>\n",
              "      <td>394.08922</td>\n",
              "      <td>246.28501</td>\n",
              "      <td>3887.39270</td>\n",
              "      <td>1162.19778</td>\n",
              "      <td>926.64518</td>\n",
              "    </tr>\n",
              "    <tr>\n",
              "      <th>8</th>\n",
              "      <td>1986</td>\n",
              "      <td>367.85</td>\n",
              "      <td>351.34774</td>\n",
              "      <td>251.12483</td>\n",
              "      <td>4625.06990</td>\n",
              "      <td>1351.92474</td>\n",
              "      <td>1272.38854</td>\n",
              "    </tr>\n",
              "    <tr>\n",
              "      <th>9</th>\n",
              "      <td>1987</td>\n",
              "      <td>446.22</td>\n",
              "      <td>366.06607</td>\n",
              "      <td>272.49236</td>\n",
              "      <td>5761.91787</td>\n",
              "      <td>1641.52338</td>\n",
              "      <td>1659.60015</td>\n",
              "    </tr>\n",
              "    <tr>\n",
              "      <th>10</th>\n",
              "      <td>1988</td>\n",
              "      <td>436.86</td>\n",
              "      <td>352.12732</td>\n",
              "      <td>245.62804</td>\n",
              "      <td>6039.39391</td>\n",
              "      <td>1603.97099</td>\n",
              "      <td>1626.12034</td>\n",
              "    </tr>\n",
              "    <tr>\n",
              "      <th>11</th>\n",
              "      <td>1989</td>\n",
              "      <td>380.82</td>\n",
              "      <td>325.48985</td>\n",
              "      <td>232.74627</td>\n",
              "      <td>6148.71301</td>\n",
              "      <td>1399.80516</td>\n",
              "      <td>1434.30585</td>\n",
              "    </tr>\n",
              "    <tr>\n",
              "      <th>12</th>\n",
              "      <td>1990</td>\n",
              "      <td>383.56</td>\n",
              "      <td>282.94628</td>\n",
              "      <td>215.96014</td>\n",
              "      <td>6697.62037</td>\n",
              "      <td>1407.79204</td>\n",
              "      <td>1827.11273</td>\n",
              "    </tr>\n",
              "    <tr>\n",
              "      <th>13</th>\n",
              "      <td>1991</td>\n",
              "      <td>362.26</td>\n",
              "      <td>278.40720</td>\n",
              "      <td>205.50722</td>\n",
              "      <td>8225.74960</td>\n",
              "      <td>1329.58386</td>\n",
              "      <td>1927.40253</td>\n",
              "    </tr>\n",
              "    <tr>\n",
              "      <th>14</th>\n",
              "      <td>1992</td>\n",
              "      <td>343.95</td>\n",
              "      <td>253.37085</td>\n",
              "      <td>195.54612</td>\n",
              "      <td>9636.93952</td>\n",
              "      <td>1262.92339</td>\n",
              "      <td>1902.41839</td>\n",
              "    </tr>\n",
              "    <tr>\n",
              "      <th>15</th>\n",
              "      <td>1993</td>\n",
              "      <td>359.82</td>\n",
              "      <td>301.32700</td>\n",
              "      <td>239.71266</td>\n",
              "      <td>11203.55009</td>\n",
              "      <td>1322.04967</td>\n",
              "      <td>2077.19159</td>\n",
              "    </tr>\n",
              "    <tr>\n",
              "      <th>16</th>\n",
              "      <td>1994</td>\n",
              "      <td>384.15</td>\n",
              "      <td>319.36006</td>\n",
              "      <td>250.80356</td>\n",
              "      <td>12051.84810</td>\n",
              "      <td>1396.44400</td>\n",
              "      <td>3306.27489</td>\n",
              "    </tr>\n",
              "    <tr>\n",
              "      <th>17</th>\n",
              "      <td>1995</td>\n",
              "      <td>384.05</td>\n",
              "      <td>291.93644</td>\n",
              "      <td>243.34273</td>\n",
              "      <td>12439.26340</td>\n",
              "      <td>1410.56247</td>\n",
              "      <td>3206.92740</td>\n",
              "    </tr>\n",
              "    <tr>\n",
              "      <th>18</th>\n",
              "      <td>1996</td>\n",
              "      <td>387.87</td>\n",
              "      <td>300.88347</td>\n",
              "      <td>248.89782</td>\n",
              "      <td>13721.36060</td>\n",
              "      <td>1424.56482</td>\n",
              "      <td>3224.91300</td>\n",
              "    </tr>\n",
              "    <tr>\n",
              "      <th>19</th>\n",
              "      <td>1997</td>\n",
              "      <td>331.29</td>\n",
              "      <td>292.48136</td>\n",
              "      <td>202.37806</td>\n",
              "      <td>12006.07350</td>\n",
              "      <td>1216.71937</td>\n",
              "      <td>2746.44528</td>\n",
              "    </tr>\n",
              "    <tr>\n",
              "      <th>20</th>\n",
              "      <td>1998</td>\n",
              "      <td>294.09</td>\n",
              "      <td>264.28112</td>\n",
              "      <td>177.46076</td>\n",
              "      <td>12132.61060</td>\n",
              "      <td>1080.16664</td>\n",
              "      <td>2434.72504</td>\n",
              "    </tr>\n",
              "    <tr>\n",
              "      <th>21</th>\n",
              "      <td>1999</td>\n",
              "      <td>278.57</td>\n",
              "      <td>261.40884</td>\n",
              "      <td>172.09825</td>\n",
              "      <td>11994.16290</td>\n",
              "      <td>1023.18380</td>\n",
              "      <td>2306.10273</td>\n",
              "    </tr>\n",
              "    <tr>\n",
              "      <th>22</th>\n",
              "      <td>2000</td>\n",
              "      <td>279.10</td>\n",
              "      <td>302.74148</td>\n",
              "      <td>184.34200</td>\n",
              "      <td>12532.16120</td>\n",
              "      <td>1025.12139</td>\n",
              "      <td>2310.52124</td>\n",
              "    </tr>\n",
              "    <tr>\n",
              "      <th>23</th>\n",
              "      <td>2001</td>\n",
              "      <td>271.04</td>\n",
              "      <td>302.86333</td>\n",
              "      <td>188.25986</td>\n",
              "      <td>12788.43890</td>\n",
              "      <td>995.50618</td>\n",
              "      <td>2243.38052</td>\n",
              "    </tr>\n",
              "    <tr>\n",
              "      <th>24</th>\n",
              "      <td>2002</td>\n",
              "      <td>309.68</td>\n",
              "      <td>327.97053</td>\n",
              "      <td>206.13460</td>\n",
              "      <td>15041.97730</td>\n",
              "      <td>1137.44154</td>\n",
              "      <td>2563.18651</td>\n",
              "    </tr>\n",
              "    <tr>\n",
              "      <th>25</th>\n",
              "      <td>2003</td>\n",
              "      <td>363.32</td>\n",
              "      <td>321.23011</td>\n",
              "      <td>222.21281</td>\n",
              "      <td>16904.91050</td>\n",
              "      <td>1334.45640</td>\n",
              "      <td>3007.22538</td>\n",
              "    </tr>\n",
              "    <tr>\n",
              "      <th>26</th>\n",
              "      <td>2004</td>\n",
              "      <td>409.17</td>\n",
              "      <td>329.16103</td>\n",
              "      <td>223.37467</td>\n",
              "      <td>18523.91300</td>\n",
              "      <td>1502.86101</td>\n",
              "      <td>3386.57590</td>\n",
              "    </tr>\n",
              "    <tr>\n",
              "      <th>27</th>\n",
              "      <td>2005</td>\n",
              "      <td>444.45</td>\n",
              "      <td>358.33936</td>\n",
              "      <td>244.85235</td>\n",
              "      <td>19599.17860</td>\n",
              "      <td>1632.40021</td>\n",
              "      <td>3639.50066</td>\n",
              "    </tr>\n",
              "    <tr>\n",
              "      <th>28</th>\n",
              "      <td>2006</td>\n",
              "      <td>603.77</td>\n",
              "      <td>480.59317</td>\n",
              "      <td>327.68464</td>\n",
              "      <td>27358.63810</td>\n",
              "      <td>2217.61429</td>\n",
              "      <td>4813.31894</td>\n",
              "    </tr>\n",
              "    <tr>\n",
              "      <th>29</th>\n",
              "      <td>2007</td>\n",
              "      <td>695.39</td>\n",
              "      <td>506.81233</td>\n",
              "      <td>347.00424</td>\n",
              "      <td>28688.97280</td>\n",
              "      <td>2553.59494</td>\n",
              "      <td>5284.58790</td>\n",
              "    </tr>\n",
              "    <tr>\n",
              "      <th>30</th>\n",
              "      <td>2008</td>\n",
              "      <td>871.96</td>\n",
              "      <td>593.19118</td>\n",
              "      <td>471.59251</td>\n",
              "      <td>37767.56020</td>\n",
              "      <td>3202.59423</td>\n",
              "      <td>6064.27531</td>\n",
              "    </tr>\n",
              "    <tr>\n",
              "      <th>31</th>\n",
              "      <td>2009</td>\n",
              "      <td>972.35</td>\n",
              "      <td>697.01955</td>\n",
              "      <td>621.18976</td>\n",
              "      <td>47001.53200</td>\n",
              "      <td>3571.35929</td>\n",
              "      <td>6642.12299</td>\n",
              "    </tr>\n",
              "    <tr>\n",
              "      <th>32</th>\n",
              "      <td>2010</td>\n",
              "      <td>1224.52</td>\n",
              "      <td>925.18936</td>\n",
              "      <td>792.40733</td>\n",
              "      <td>55977.92560</td>\n",
              "      <td>4497.52269</td>\n",
              "      <td>8283.15847</td>\n",
              "    </tr>\n",
              "    <tr>\n",
              "      <th>33</th>\n",
              "      <td>2011</td>\n",
              "      <td>1571.52</td>\n",
              "      <td>1129.92459</td>\n",
              "      <td>980.75636</td>\n",
              "      <td>73479.16980</td>\n",
              "      <td>5772.12114</td>\n",
              "      <td>10148.41256</td>\n",
              "    </tr>\n",
              "    <tr>\n",
              "      <th>34</th>\n",
              "      <td>2012</td>\n",
              "      <td>1668.98</td>\n",
              "      <td>1298.71610</td>\n",
              "      <td>1052.98003</td>\n",
              "      <td>89078.50420</td>\n",
              "      <td>6130.16849</td>\n",
              "      <td>10529.51010</td>\n",
              "    </tr>\n",
              "    <tr>\n",
              "      <th>35</th>\n",
              "      <td>2013</td>\n",
              "      <td>1411.23</td>\n",
              "      <td>1063.76915</td>\n",
              "      <td>903.81239</td>\n",
              "      <td>82238.13700</td>\n",
              "      <td>5183.43387</td>\n",
              "      <td>8683.84440</td>\n",
              "    </tr>\n",
              "    <tr>\n",
              "      <th>36</th>\n",
              "      <td>2014</td>\n",
              "      <td>1266.40</td>\n",
              "      <td>952.82571</td>\n",
              "      <td>768.14916</td>\n",
              "      <td>77245.72030</td>\n",
              "      <td>4651.50598</td>\n",
              "      <td>7802.19659</td>\n",
              "    </tr>\n",
              "    <tr>\n",
              "      <th>37</th>\n",
              "      <td>2015</td>\n",
              "      <td>1160.06</td>\n",
              "      <td>1045.29709</td>\n",
              "      <td>758.98199</td>\n",
              "      <td>74347.36390</td>\n",
              "      <td>4260.88970</td>\n",
              "      <td>7285.48355</td>\n",
              "    </tr>\n",
              "    <tr>\n",
              "      <th>38</th>\n",
              "      <td>2016</td>\n",
              "      <td>1250.80</td>\n",
              "      <td>1129.45348</td>\n",
              "      <td>927.34224</td>\n",
              "      <td>84021.52800</td>\n",
              "      <td>4594.17704</td>\n",
              "      <td>8306.04154</td>\n",
              "    </tr>\n",
              "    <tr>\n",
              "      <th>39</th>\n",
              "      <td>2017</td>\n",
              "      <td>1257.15</td>\n",
              "      <td>1114.05904</td>\n",
              "      <td>976.05851</td>\n",
              "      <td>81863.62210</td>\n",
              "      <td>4617.44363</td>\n",
              "      <td>8494.75064</td>\n",
              "    </tr>\n",
              "    <tr>\n",
              "      <th>40</th>\n",
              "      <td>2018</td>\n",
              "      <td>1268.49</td>\n",
              "      <td>1073.69770</td>\n",
              "      <td>949.60552</td>\n",
              "      <td>86658.28200</td>\n",
              "      <td>4659.26967</td>\n",
              "      <td>8379.74188</td>\n",
              "    </tr>\n",
              "    <tr>\n",
              "      <th>41</th>\n",
              "      <td>2019</td>\n",
              "      <td>1392.60</td>\n",
              "      <td>1244.87505</td>\n",
              "      <td>1092.92560</td>\n",
              "      <td>98108.18300</td>\n",
              "      <td>5115.16917</td>\n",
              "      <td>9634.22447</td>\n",
              "    </tr>\n",
              "    <tr>\n",
              "      <th>42</th>\n",
              "      <td>2020</td>\n",
              "      <td>1769.59</td>\n",
              "      <td>1549.04471</td>\n",
              "      <td>1378.98099</td>\n",
              "      <td>131199.95540</td>\n",
              "      <td>6499.95290</td>\n",
              "      <td>12205.48197</td>\n",
              "    </tr>\n",
              "    <tr>\n",
              "      <th>43</th>\n",
              "      <td>2021</td>\n",
              "      <td>1798.61</td>\n",
              "      <td>1520.62257</td>\n",
              "      <td>1307.53174</td>\n",
              "      <td>132967.87510</td>\n",
              "      <td>6606.55046</td>\n",
              "      <td>11600.56405</td>\n",
              "    </tr>\n",
              "  </tbody>\n",
              "</table>\n",
              "</div>\n",
              "      <button class=\"colab-df-convert\" onclick=\"convertToInteractive('df-926a47a5-ce07-490c-a832-3b0be0df629d')\"\n",
              "              title=\"Convert this dataframe to an interactive table.\"\n",
              "              style=\"display:none;\">\n",
              "        \n",
              "  <svg xmlns=\"http://www.w3.org/2000/svg\" height=\"24px\"viewBox=\"0 0 24 24\"\n",
              "       width=\"24px\">\n",
              "    <path d=\"M0 0h24v24H0V0z\" fill=\"none\"/>\n",
              "    <path d=\"M18.56 5.44l.94 2.06.94-2.06 2.06-.94-2.06-.94-.94-2.06-.94 2.06-2.06.94zm-11 1L8.5 8.5l.94-2.06 2.06-.94-2.06-.94L8.5 2.5l-.94 2.06-2.06.94zm10 10l.94 2.06.94-2.06 2.06-.94-2.06-.94-.94-2.06-.94 2.06-2.06.94z\"/><path d=\"M17.41 7.96l-1.37-1.37c-.4-.4-.92-.59-1.43-.59-.52 0-1.04.2-1.43.59L10.3 9.45l-7.72 7.72c-.78.78-.78 2.05 0 2.83L4 21.41c.39.39.9.59 1.41.59.51 0 1.02-.2 1.41-.59l7.78-7.78 2.81-2.81c.8-.78.8-2.07 0-2.86zM5.41 20L4 18.59l7.72-7.72 1.47 1.35L5.41 20z\"/>\n",
              "  </svg>\n",
              "      </button>\n",
              "      \n",
              "  <style>\n",
              "    .colab-df-container {\n",
              "      display:flex;\n",
              "      flex-wrap:wrap;\n",
              "      gap: 12px;\n",
              "    }\n",
              "\n",
              "    .colab-df-convert {\n",
              "      background-color: #E8F0FE;\n",
              "      border: none;\n",
              "      border-radius: 50%;\n",
              "      cursor: pointer;\n",
              "      display: none;\n",
              "      fill: #1967D2;\n",
              "      height: 32px;\n",
              "      padding: 0 0 0 0;\n",
              "      width: 32px;\n",
              "    }\n",
              "\n",
              "    .colab-df-convert:hover {\n",
              "      background-color: #E2EBFA;\n",
              "      box-shadow: 0px 1px 2px rgba(60, 64, 67, 0.3), 0px 1px 3px 1px rgba(60, 64, 67, 0.15);\n",
              "      fill: #174EA6;\n",
              "    }\n",
              "\n",
              "    [theme=dark] .colab-df-convert {\n",
              "      background-color: #3B4455;\n",
              "      fill: #D2E3FC;\n",
              "    }\n",
              "\n",
              "    [theme=dark] .colab-df-convert:hover {\n",
              "      background-color: #434B5C;\n",
              "      box-shadow: 0px 1px 3px 1px rgba(0, 0, 0, 0.15);\n",
              "      filter: drop-shadow(0px 1px 2px rgba(0, 0, 0, 0.3));\n",
              "      fill: #FFFFFF;\n",
              "    }\n",
              "  </style>\n",
              "\n",
              "      <script>\n",
              "        const buttonEl =\n",
              "          document.querySelector('#df-926a47a5-ce07-490c-a832-3b0be0df629d button.colab-df-convert');\n",
              "        buttonEl.style.display =\n",
              "          google.colab.kernel.accessAllowed ? 'block' : 'none';\n",
              "\n",
              "        async function convertToInteractive(key) {\n",
              "          const element = document.querySelector('#df-926a47a5-ce07-490c-a832-3b0be0df629d');\n",
              "          const dataTable =\n",
              "            await google.colab.kernel.invokeFunction('convertToInteractive',\n",
              "                                                     [key], {});\n",
              "          if (!dataTable) return;\n",
              "\n",
              "          const docLinkHtml = 'Like what you see? Visit the ' +\n",
              "            '<a target=\"_blank\" href=https://colab.research.google.com/notebooks/data_table.ipynb>data table notebook</a>'\n",
              "            + ' to learn more about interactive tables.';\n",
              "          element.innerHTML = '';\n",
              "          dataTable['output_type'] = 'display_data';\n",
              "          await google.colab.output.renderOutput(dataTable, element);\n",
              "          const docLink = document.createElement('div');\n",
              "          docLink.innerHTML = docLinkHtml;\n",
              "          element.appendChild(docLink);\n",
              "        }\n",
              "      </script>\n",
              "    </div>\n",
              "  </div>\n",
              "  "
            ]
          },
          "metadata": {},
          "execution_count": 11
        }
      ]
    },
    {
      "cell_type": "code",
      "source": [
        "# Change to y/m/d date format\n",
        "daily['Date'] = pd.to_datetime(daily['Date'], format=\"%Y-%m-%d\")"
      ],
      "metadata": {
        "id": "sniSZQeM4093"
      },
      "execution_count": null,
      "outputs": []
    },
    {
      "cell_type": "code",
      "source": [
        "### For seaborn\n",
        "def plot_daily_sea_all(currency):\n",
        "    fig = plt.figure(figsize=(12,6))\n",
        "    g = sns.lineplot(x='Date', y=f'{currency}', data=daily)\n",
        "    g.set_title(f\"Price of gold of {currency}\")\n",
        "    g.set_xlabel(\"All time\")\n",
        "    g.set_ylabel(f'{currency}')\n",
        "    plt.show()"
      ],
      "metadata": {
        "id": "m27jZubT48y5"
      },
      "execution_count": null,
      "outputs": []
    },
    {
      "cell_type": "code",
      "source": [
        "currencies = ['USD', 'EUR', 'GBP','INR' , 'AED', 'CNY']\n",
        "for i in currencies:\n",
        "    plot_daily_sea_all(i)"
      ],
      "metadata": {
        "colab": {
          "base_uri": "https://localhost:8080/",
          "height": 1000
        },
        "id": "lkBwrE0W5CKX",
        "outputId": "29f81ea1-8092-4353-a36b-66a52f312084"
      },
      "execution_count": null,
      "outputs": [
        {
          "output_type": "display_data",
          "data": {
            "text/plain": [
              "<Figure size 864x432 with 1 Axes>"
            ],
            "image/png": "[encoded data removed]"
          },
          "metadata": {
            "needs_background": "light"
          }
        },
        {
          "output_type": "display_data",
          "data": {
            "text/plain": [
              "<Figure size 864x432 with 1 Axes>"
            ],
            "image/png": "[encoded data removed]"
          },
          "metadata": {
            "needs_background": "light"
          }
        },
        {
          "output_type": "display_data",
          "data": {
            "text/plain": [
              "<Figure size 864x432 with 1 Axes>"
            ],
            "image/png": "[encoded data removed]"
          },
          "metadata": {
            "needs_background": "light"
          }
        },
        {
          "output_type": "display_data",
          "data": {
            "text/plain": [
              "<Figure size 864x432 with 1 Axes>"
            ],
            "image/png": "[encoded data removed]"
          },
          "metadata": {
            "needs_background": "light"
          }
        },
        {
          "output_type": "display_data",
          "data": {
            "text/plain": [
              "<Figure size 864x432 with 1 Axes>"
            ],
            "image/png": "[encoded data removed]"
          },
          "metadata": {
            "needs_background": "light"
          }
        },
        {
          "output_type": "display_data",
          "data": {
            "text/plain": [
              "<Figure size 864x432 with 1 Axes>"
            ],
            "image/png": "[encoded data removed]"
          },
          "metadata": {
            "needs_background": "light"
          }
        }
      ]
    },
    {
      "cell_type": "code",
      "source": [
        "# Daily\n",
        "correlation = daily.corr()\n",
        "f, ax = plt.subplots(figsize=(10,8))\n",
        "plt.title('Correlation of currencies')\n",
        "sns.heatmap(correlation, annot=True, cmap='coolwarm')\n",
        "plt.show()"
      ],
      "metadata": {
        "colab": {
          "base_uri": "https://localhost:8080/",
          "height": 499
        },
        "id": "vbzdOSMV5DyC",
        "outputId": "c723dc05-e004-4a27-eea9-192c65568284"
      },
      "execution_count": null,
      "outputs": [
        {
          "output_type": "display_data",
          "data": {
            "text/plain": [
              "<Figure size 720x576 with 2 Axes>"
            ],
            "image/png": "[encoded data removed]"
          },
          "metadata": {
            "needs_background": "light"
          }
        }
      ]
    },
    {
      "cell_type": "code",
      "source": [
        "# Annual\n",
        "correlation = annual.corr()\n",
        "f, ax = plt.subplots(figsize=(10,8))\n",
        "plt.title('Correlation of currencies')\n",
        "sns.heatmap(correlation, annot=True, cmap='coolwarm')\n",
        "plt.show()"
      ],
      "metadata": {
        "colab": {
          "base_uri": "https://localhost:8080/",
          "height": 499
        },
        "id": "R-CEkGwD5Shg",
        "outputId": "a3882380-6cc2-441a-f5a3-b80fb8c1ca83"
      },
      "execution_count": null,
      "outputs": [
        {
          "output_type": "display_data",
          "data": {
            "text/plain": [
              "<Figure size 720x576 with 2 Axes>"
            ],
            "image/png": "[encoded data removed]"
          },
          "metadata": {
            "needs_background": "light"
          }
        }
      ]
    },
    {
      "cell_type": "code",
      "source": [
        "!{sys.executable} -m pip install skforecast"
      ],
      "metadata": {
        "colab": {
          "base_uri": "https://localhost:8080/"
        },
        "id": "dIkBreDI51Kh",
        "outputId": "c702476b-29c7-4d79-f173-12789bd5ef1b"
      },
      "execution_count": null,
      "outputs": [
        {
          "output_type": "stream",
          "name": "stdout",
          "text": [
            "Collecting skforecast\n",
            "  Downloading skforecast-0.4.3-py2.py3-none-any.whl (87 kB)\n",
            "\u001b[?25l\r\u001b[K     |███▊                            | 10 kB 19.9 MB/s eta 0:00:01\r\u001b[K     |███████▌                        | 20 kB 12.9 MB/s eta 0:00:01\r\u001b[K     |███████████▏                    | 30 kB 7.1 MB/s eta 0:00:01\r\u001b[K     |███████████████                 | 40 kB 6.4 MB/s eta 0:00:01\r\u001b[K     |██████████████████▊             | 51 kB 4.3 MB/s eta 0:00:01\r\u001b[K     |██████████████████████▍         | 61 kB 5.0 MB/s eta 0:00:01\r\u001b[K     |██████████████████████████▏     | 71 kB 5.3 MB/s eta 0:00:01\r\u001b[K     |█████████████████████████████▉  | 81 kB 5.9 MB/s eta 0:00:01\r\u001b[K     |████████████████████████████████| 87 kB 3.5 MB/s \n",
            "\u001b[?25hRequirement already satisfied: pandas<=1.4,>=1.2 in /usr/local/lib/python3.7/dist-packages (from skforecast) (1.3.5)\n",
            "Collecting statsmodels<=0.13,>=0.12\n",
            "  Downloading statsmodels-0.13.0-cp37-cp37m-manylinux_2_17_x86_64.manylinux2014_x86_64.whl (9.8 MB)\n",
            "\u001b[K     |████████████████████████████████| 9.8 MB 18.0 MB/s \n",
            "\u001b[?25hRequirement already satisfied: numpy<=1.22,>=1.20 in /usr/local/lib/python3.7/dist-packages (from skforecast) (1.21.5)\n",
            "Collecting tqdm<=4.62,>=4.57.0\n",
            "  Downloading tqdm-4.62.0-py2.py3-none-any.whl (76 kB)\n",
            "\u001b[K     |████████████████████████████████| 76 kB 5.0 MB/s \n",
            "\u001b[?25hRequirement already satisfied: scikit-learn>=1.0 in /usr/local/lib/python3.7/dist-packages (from skforecast) (1.0.2)\n",
            "Requirement already satisfied: python-dateutil>=2.7.3 in /usr/local/lib/python3.7/dist-packages (from pandas<=1.4,>=1.2->skforecast) (2.8.2)\n",
            "Requirement already satisfied: pytz>=2017.3 in /usr/local/lib/python3.7/dist-packages (from pandas<=1.4,>=1.2->skforecast) (2018.9)\n",
            "Requirement already satisfied: six>=1.5 in /usr/local/lib/python3.7/dist-packages (from python-dateutil>=2.7.3->pandas<=1.4,>=1.2->skforecast) (1.15.0)\n",
            "Requirement already satisfied: joblib>=0.11 in /usr/local/lib/python3.7/dist-packages (from scikit-learn>=1.0->skforecast) (1.1.0)\n",
            "Requirement already satisfied: scipy>=1.1.0 in /usr/local/lib/python3.7/dist-packages (from scikit-learn>=1.0->skforecast) (1.4.1)\n",
            "Requirement already satisfied: threadpoolctl>=2.0.0 in /usr/local/lib/python3.7/dist-packages (from scikit-learn>=1.0->skforecast) (3.1.0)\n",
            "Requirement already satisfied: patsy>=0.5.2 in /usr/local/lib/python3.7/dist-packages (from statsmodels<=0.13,>=0.12->skforecast) (0.5.2)\n",
            "Installing collected packages: tqdm, statsmodels, skforecast\n",
            "  Attempting uninstall: tqdm\n",
            "    Found existing installation: tqdm 4.63.0\n",
            "    Uninstalling tqdm-4.63.0:\n",
            "      Successfully uninstalled tqdm-4.63.0\n",
            "  Attempting uninstall: statsmodels\n",
            "    Found existing installation: statsmodels 0.10.2\n",
            "    Uninstalling statsmodels-0.10.2:\n",
            "      Successfully uninstalled statsmodels-0.10.2\n",
            "Successfully installed skforecast-0.4.3 statsmodels-0.13.0 tqdm-4.62.0\n"
          ]
        }
      ]
    },
    {
      "cell_type": "code",
      "source": [
        "import xgboost as xgb\n",
        "from sklearn.metrics import mean_squared_error, mean_absolute_error\n",
        "from sklearn.compose import ColumnTransformer\n",
        "from sklearn.pipeline import make_pipeline\n",
        "from skforecast.ForecasterAutoreg import ForecasterAutoreg\n",
        "from skforecast.ForecasterAutoregMultiOutput import ForecasterAutoregMultiOutput\n",
        "from skforecast.model_selection import grid_search_forecaster\n",
        "from skforecast.model_selection import backtesting_forecaster\n",
        "from joblib import dump, load\n",
        "from xgboost import plot_importance, plot_tree"
      ],
      "metadata": {
        "id": "pJPri2n85Voh"
      },
      "execution_count": null,
      "outputs": []
    },
    {
      "cell_type": "code",
      "source": [
        "drop = ['EUR', 'GBP','INR' , 'AED', 'CNY']\n",
        "daily1 = daily.drop(drop, axis = 1)"
      ],
      "metadata": {
        "id": "3JAFV1aA5t80"
      },
      "execution_count": null,
      "outputs": []
    },
    {
      "cell_type": "code",
      "source": [
        "daily1"
      ],
      "metadata": {
        "colab": {
          "base_uri": "https://localhost:8080/",
          "height": 423
        },
        "id": "SJrPjqp-596F",
        "outputId": "458ee222-1b30-4050-cc96-476f7a4c2fca"
      },
      "execution_count": null,
      "outputs": [
        {
          "output_type": "execute_result",
          "data": {
            "text/plain": [
              "           Date      USD\n",
              "0    1985-01-01   308.30\n",
              "1    1985-01-02   305.50\n",
              "2    1985-01-03   302.30\n",
              "3    1985-01-04   303.15\n",
              "4    1985-01-07   298.25\n",
              "...         ...      ...\n",
              "9709 2022-03-21  1935.05\n",
              "9710 2022-03-22  1915.25\n",
              "9711 2022-03-23  1931.75\n",
              "9712 2022-03-24  1965.20\n",
              "9713 2022-03-25  1953.80\n",
              "\n",
              "[9714 rows x 2 columns]"
            ],
            "text/html": [
              "\n",
              "  <div id=\"df-fb4d32b8-9f0e-4e31-bd00-fead14fa8313\">\n",
              "    <div class=\"colab-df-container\">\n",
              "      <div>\n",
              "<style scoped>\n",
              "    .dataframe tbody tr th:only-of-type {\n",
              "        vertical-align: middle;\n",
              "    }\n",
              "\n",
              "    .dataframe tbody tr th {\n",
              "        vertical-align: top;\n",
              "    }\n",
              "\n",
              "    .dataframe thead th {\n",
              "        text-align: right;\n",
              "    }\n",
              "</style>\n",
              "<table border=\"1\" class=\"dataframe\">\n",
              "  <thead>\n",
              "    <tr style=\"text-align: right;\">\n",
              "      <th></th>\n",
              "      <th>Date</th>\n",
              "      <th>USD</th>\n",
              "    </tr>\n",
              "  </thead>\n",
              "  <tbody>\n",
              "    <tr>\n",
              "      <th>0</th>\n",
              "      <td>1985-01-01</td>\n",
              "      <td>308.30</td>\n",
              "    </tr>\n",
              "    <tr>\n",
              "      <th>1</th>\n",
              "      <td>1985-01-02</td>\n",
              "      <td>305.50</td>\n",
              "    </tr>\n",
              "    <tr>\n",
              "      <th>2</th>\n",
              "      <td>1985-01-03</td>\n",
              "      <td>302.30</td>\n",
              "    </tr>\n",
              "    <tr>\n",
              "      <th>3</th>\n",
              "      <td>1985-01-04</td>\n",
              "      <td>303.15</td>\n",
              "    </tr>\n",
              "    <tr>\n",
              "      <th>4</th>\n",
              "      <td>1985-01-07</td>\n",
              "      <td>298.25</td>\n",
              "    </tr>\n",
              "    <tr>\n",
              "      <th>...</th>\n",
              "      <td>...</td>\n",
              "      <td>...</td>\n",
              "    </tr>\n",
              "    <tr>\n",
              "      <th>9709</th>\n",
              "      <td>2022-03-21</td>\n",
              "      <td>1935.05</td>\n",
              "    </tr>\n",
              "    <tr>\n",
              "      <th>9710</th>\n",
              "      <td>2022-03-22</td>\n",
              "      <td>1915.25</td>\n",
              "    </tr>\n",
              "    <tr>\n",
              "      <th>9711</th>\n",
              "      <td>2022-03-23</td>\n",
              "      <td>1931.75</td>\n",
              "    </tr>\n",
              "    <tr>\n",
              "      <th>9712</th>\n",
              "      <td>2022-03-24</td>\n",
              "      <td>1965.20</td>\n",
              "    </tr>\n",
              "    <tr>\n",
              "      <th>9713</th>\n",
              "      <td>2022-03-25</td>\n",
              "      <td>1953.80</td>\n",
              "    </tr>\n",
              "  </tbody>\n",
              "</table>\n",
              "<p>9714 rows × 2 columns</p>\n",
              "</div>\n",
              "      <button class=\"colab-df-convert\" onclick=\"convertToInteractive('df-fb4d32b8-9f0e-4e31-bd00-fead14fa8313')\"\n",
              "              title=\"Convert this dataframe to an interactive table.\"\n",
              "              style=\"display:none;\">\n",
              "        \n",
              "  <svg xmlns=\"http://www.w3.org/2000/svg\" height=\"24px\"viewBox=\"0 0 24 24\"\n",
              "       width=\"24px\">\n",
              "    <path d=\"M0 0h24v24H0V0z\" fill=\"none\"/>\n",
              "    <path d=\"M18.56 5.44l.94 2.06.94-2.06 2.06-.94-2.06-.94-.94-2.06-.94 2.06-2.06.94zm-11 1L8.5 8.5l.94-2.06 2.06-.94-2.06-.94L8.5 2.5l-.94 2.06-2.06.94zm10 10l.94 2.06.94-2.06 2.06-.94-2.06-.94-.94-2.06-.94 2.06-2.06.94z\"/><path d=\"M17.41 7.96l-1.37-1.37c-.4-.4-.92-.59-1.43-.59-.52 0-1.04.2-1.43.59L10.3 9.45l-7.72 7.72c-.78.78-.78 2.05 0 2.83L4 21.41c.39.39.9.59 1.41.59.51 0 1.02-.2 1.41-.59l7.78-7.78 2.81-2.81c.8-.78.8-2.07 0-2.86zM5.41 20L4 18.59l7.72-7.72 1.47 1.35L5.41 20z\"/>\n",
              "  </svg>\n",
              "      </button>\n",
              "      \n",
              "  <style>\n",
              "    .colab-df-container {\n",
              "      display:flex;\n",
              "      flex-wrap:wrap;\n",
              "      gap: 12px;\n",
              "    }\n",
              "\n",
              "    .colab-df-convert {\n",
              "      background-color: #E8F0FE;\n",
              "      border: none;\n",
              "      border-radius: 50%;\n",
              "      cursor: pointer;\n",
              "      display: none;\n",
              "      fill: #1967D2;\n",
              "      height: 32px;\n",
              "      padding: 0 0 0 0;\n",
              "      width: 32px;\n",
              "    }\n",
              "\n",
              "    .colab-df-convert:hover {\n",
              "      background-color: #E2EBFA;\n",
              "      box-shadow: 0px 1px 2px rgba(60, 64, 67, 0.3), 0px 1px 3px 1px rgba(60, 64, 67, 0.15);\n",
              "      fill: #174EA6;\n",
              "    }\n",
              "\n",
              "    [theme=dark] .colab-df-convert {\n",
              "      background-color: #3B4455;\n",
              "      fill: #D2E3FC;\n",
              "    }\n",
              "\n",
              "    [theme=dark] .colab-df-convert:hover {\n",
              "      background-color: #434B5C;\n",
              "      box-shadow: 0px 1px 3px 1px rgba(0, 0, 0, 0.15);\n",
              "      filter: drop-shadow(0px 1px 2px rgba(0, 0, 0, 0.3));\n",
              "      fill: #FFFFFF;\n",
              "    }\n",
              "  </style>\n",
              "\n",
              "      <script>\n",
              "        const buttonEl =\n",
              "          document.querySelector('#df-fb4d32b8-9f0e-4e31-bd00-fead14fa8313 button.colab-df-convert');\n",
              "        buttonEl.style.display =\n",
              "          google.colab.kernel.accessAllowed ? 'block' : 'none';\n",
              "\n",
              "        async function convertToInteractive(key) {\n",
              "          const element = document.querySelector('#df-fb4d32b8-9f0e-4e31-bd00-fead14fa8313');\n",
              "          const dataTable =\n",
              "            await google.colab.kernel.invokeFunction('convertToInteractive',\n",
              "                                                     [key], {});\n",
              "          if (!dataTable) return;\n",
              "\n",
              "          const docLinkHtml = 'Like what you see? Visit the ' +\n",
              "            '<a target=\"_blank\" href=https://colab.research.google.com/notebooks/data_table.ipynb>data table notebook</a>'\n",
              "            + ' to learn more about interactive tables.';\n",
              "          element.innerHTML = '';\n",
              "          dataTable['output_type'] = 'display_data';\n",
              "          await google.colab.output.renderOutput(dataTable, element);\n",
              "          const docLink = document.createElement('div');\n",
              "          docLink.innerHTML = docLinkHtml;\n",
              "          element.appendChild(docLink);\n",
              "        }\n",
              "      </script>\n",
              "    </div>\n",
              "  </div>\n",
              "  "
            ]
          },
          "metadata": {},
          "execution_count": 21
        }
      ]
    },
    {
      "cell_type": "code",
      "source": [
        ""
      ],
      "metadata": {
        "id": "1lWhczZb6ykG"
      },
      "execution_count": null,
      "outputs": []
    },
    {
      "cell_type": "code",
      "source": [
        "print(\"60%: \",daily['Date'].quantile(0.60))\n",
        "print(\"80%: \",daily['Date'].quantile(0.80))"
      ],
      "metadata": {
        "colab": {
          "base_uri": "https://localhost:8080/"
        },
        "id": "RzeU9ODF5_dW",
        "outputId": "d3c967ee-1997-4100-b10a-1e040b5443e2"
      },
      "execution_count": null,
      "outputs": [
        {
          "output_type": "stream",
          "name": "stdout",
          "text": [
            "60%:  2007-05-03 19:12:00\n",
            "80%:  2014-10-14 09:36:00\n"
          ]
        }
      ]
    },
    {
      "cell_type": "code",
      "source": [
        "daily1 = daily1.set_index('Date')\n",
        "daily1 = daily1.sort_index()"
      ],
      "metadata": {
        "id": "dfOQtUDK6zcA"
      },
      "execution_count": null,
      "outputs": []
    },
    {
      "cell_type": "code",
      "source": [
        "train_date = '2007-05-03 19:12:00'\n",
        "val_date = '2014-10-14 09:36:00'\n",
        "train = daily1.loc[: train_date].copy()\n",
        "val = daily1.loc[train_date:val_date].copy()\n",
        "test = daily1.loc[val_date :].copy()"
      ],
      "metadata": {
        "id": "rt4SmcTR6UXe"
      },
      "execution_count": null,
      "outputs": []
    },
    {
      "cell_type": "code",
      "source": [
        "# Plot time series\n",
        "fig, ax = plt.subplots(figsize=(12, 6))\n",
        "train.plot(y='USD', ax=ax, label='train')\n",
        "val.plot(y='USD', ax=ax, label='val')\n",
        "test.plot(y='USD', ax=ax, label='test')\n",
        "ax.set_title('Price of gold in USD')\n",
        "ax.legend();"
      ],
      "metadata": {
        "colab": {
          "base_uri": "https://localhost:8080/",
          "height": 404
        },
        "id": "y0DqM-EY6dXB",
        "outputId": "f4832127-1603-4b82-d3a5-4cbb76fd3e22"
      },
      "execution_count": null,
      "outputs": [
        {
          "output_type": "display_data",
          "data": {
            "text/plain": [
              "<Figure size 864x432 with 1 Axes>"
            ],
            "image/png": "[encoded data removed]"
          },
          "metadata": {
            "needs_background": "light"
          }
        }
      ]
    },
    {
      "cell_type": "code",
      "source": [
        "# Create forecaster\n",
        "forecaster = ForecasterAutoreg(\n",
        "                regressor = xgb.XGBRegressor(random_state=123),\n",
        "                lags = 24\n",
        "                )\n",
        "\n",
        "forecaster"
      ],
      "metadata": {
        "colab": {
          "base_uri": "https://localhost:8080/"
        },
        "id": "EvVwbSV16ffk",
        "outputId": "e06fe8e1-3af8-4601-f4d3-31a21c2f7c5e"
      },
      "execution_count": null,
      "outputs": [
        {
          "output_type": "execute_result",
          "data": {
            "text/plain": [
              "================= \n",
              "ForecasterAutoreg \n",
              "================= \n",
              "Regressor: XGBRegressor(random_state=123) \n",
              "Lags: [ 1  2  3  4  5  6  7  8  9 10 11 12 13 14 15 16 17 18 19 20 21 22 23 24] \n",
              "Window size: 24 \n",
              "Included exogenous: False \n",
              "Type of exogenous variable: None \n",
              "Exogenous variables names: None \n",
              "Training range: None \n",
              "Training index type: None \n",
              "Training index frequency: None \n",
              "Regressor parameters: {'base_score': 0.5, 'booster': 'gbtree', 'colsample_bylevel': 1, 'colsample_bynode': 1, 'colsample_bytree': 1, 'gamma': 0, 'importance_type': 'gain', 'learning_rate': 0.1, 'max_delta_step': 0, 'max_depth': 3, 'min_child_weight': 1, 'missing': None, 'n_estimators': 100, 'n_jobs': 1, 'nthread': None, 'objective': 'reg:linear', 'random_state': 123, 'reg_alpha': 0, 'reg_lambda': 1, 'scale_pos_weight': 1, 'seed': None, 'silent': None, 'subsample': 1, 'verbosity': 1} \n",
              "Creation date: 2022-04-06 12:49:07 \n",
              "Last fit date: None \n",
              "Skforecast version: 0.4.3 "
            ]
          },
          "metadata": {},
          "execution_count": 28
        }
      ]
    },
    {
      "cell_type": "code",
      "source": [
        "# Grid search of hyperparameters and lags\n",
        "# Regressor hyperparameters\n",
        "param_grid = {\n",
        "    'n_estimators': [100, 500],\n",
        "    'max_depth': [3, 5, 10],\n",
        "    'learning_rate': [0.01, 0.1]\n",
        "    }\n",
        "\n",
        "# # Lags used as predictors\n",
        "lags_grid = [24, 48, 72, [1, 2, 3, 23, 24, 25, 71, 72, 73]]\n",
        "\n",
        "results_grid = grid_search_forecaster(\n",
        "    forecaster         = forecaster,\n",
        "    y                  = daily1.loc[:val_date, 'USD'], # Train and validation data\n",
        "    param_grid         = param_grid,\n",
        "    lags_grid          = lags_grid,\n",
        "    steps              = 24,\n",
        "    refit              = False,\n",
        "    metric             = 'mean_squared_error',\n",
        "    initial_train_size = int(len(train)), # Model is trained with training data\n",
        "    fixed_train_size   = False,\n",
        "    return_best        = True,\n",
        "    verbose            = False\n",
        "    )"
      ],
      "metadata": {
        "colab": {
          "base_uri": "https://localhost:8080/"
        },
        "id": "-gPqknZK68dM",
        "outputId": "76645da2-c87a-43aa-bb95-ae4b7d4c4fe8"
      },
      "execution_count": null,
      "outputs": [
        {
          "output_type": "stream",
          "name": "stdout",
          "text": [
            "Number of models compared: 48\n"
          ]
        },
        {
          "output_type": "stream",
          "name": "stderr",
          "text": [
            "loop lags_grid:   0%|                                               | 0/4 [00:00<?, ?it/s]\n",
            "loop param_grid:   0%|                                             | 0/12 [00:00<?, ?it/s]\u001b[A"
          ]
        },
        {
          "output_type": "stream",
          "name": "stdout",
          "text": [
            "[12:49:25] WARNING: /workspace/src/objective/regression_obj.cu:152: reg:linear is now deprecated in favor of reg:squarederror.\n"
          ]
        },
        {
          "output_type": "stream",
          "name": "stderr",
          "text": [
            "\n",
            "loop param_grid:   8%|███                                  | 1/12 [00:02<00:25,  2.35s/it]\u001b[A"
          ]
        },
        {
          "output_type": "stream",
          "name": "stdout",
          "text": [
            "[12:49:28] WARNING: /workspace/src/objective/regression_obj.cu:152: reg:linear is now deprecated in favor of reg:squarederror.\n"
          ]
        },
        {
          "output_type": "stream",
          "name": "stderr",
          "text": [
            "\n",
            "loop param_grid:  17%|██████▏                              | 2/12 [00:10<00:59,  5.93s/it]\u001b[A"
          ]
        },
        {
          "output_type": "stream",
          "name": "stdout",
          "text": [
            "[12:49:36] WARNING: /workspace/src/objective/regression_obj.cu:152: reg:linear is now deprecated in favor of reg:squarederror.\n"
          ]
        },
        {
          "output_type": "stream",
          "name": "stderr",
          "text": [
            "\n",
            "loop param_grid:  25%|█████████▎                           | 3/12 [00:12<00:35,  3.96s/it]\u001b[A"
          ]
        },
        {
          "output_type": "stream",
          "name": "stdout",
          "text": [
            "[12:49:38] WARNING: /workspace/src/objective/regression_obj.cu:152: reg:linear is now deprecated in favor of reg:squarederror.\n"
          ]
        },
        {
          "output_type": "stream",
          "name": "stderr",
          "text": [
            "\n",
            "loop param_grid:  33%|████████████▎                        | 4/12 [00:19<00:42,  5.30s/it]\u001b[A"
          ]
        },
        {
          "output_type": "stream",
          "name": "stdout",
          "text": [
            "[12:49:45] WARNING: /workspace/src/objective/regression_obj.cu:152: reg:linear is now deprecated in favor of reg:squarederror.\n"
          ]
        },
        {
          "output_type": "stream",
          "name": "stderr",
          "text": [
            "\n",
            "loop param_grid:  42%|███████████████▍                     | 5/12 [00:21<00:27,  3.98s/it]\u001b[A"
          ]
        },
        {
          "output_type": "stream",
          "name": "stdout",
          "text": [
            "[12:49:47] WARNING: /workspace/src/objective/regression_obj.cu:152: reg:linear is now deprecated in favor of reg:squarederror.\n"
          ]
        },
        {
          "output_type": "stream",
          "name": "stderr",
          "text": [
            "\n",
            "loop param_grid:  50%|██████████████████▌                  | 6/12 [00:31<00:36,  6.10s/it]\u001b[A"
          ]
        },
        {
          "output_type": "stream",
          "name": "stdout",
          "text": [
            "[12:49:57] WARNING: /workspace/src/objective/regression_obj.cu:152: reg:linear is now deprecated in favor of reg:squarederror.\n"
          ]
        },
        {
          "output_type": "stream",
          "name": "stderr",
          "text": [
            "\n",
            "loop param_grid:  58%|█████████████████████▌               | 7/12 [00:32<00:22,  4.48s/it]\u001b[A"
          ]
        },
        {
          "output_type": "stream",
          "name": "stdout",
          "text": [
            "[12:49:58] WARNING: /workspace/src/objective/regression_obj.cu:152: reg:linear is now deprecated in favor of reg:squarederror.\n"
          ]
        },
        {
          "output_type": "stream",
          "name": "stderr",
          "text": [
            "\n",
            "loop param_grid:  67%|████████████████████████▋            | 8/12 [00:37<00:18,  4.60s/it]\u001b[A"
          ]
        },
        {
          "output_type": "stream",
          "name": "stdout",
          "text": [
            "[12:50:03] WARNING: /workspace/src/objective/regression_obj.cu:152: reg:linear is now deprecated in favor of reg:squarederror.\n"
          ]
        },
        {
          "output_type": "stream",
          "name": "stderr",
          "text": [
            "\n",
            "loop param_grid:  75%|███████████████████████████▊         | 9/12 [00:39<00:11,  3.69s/it]\u001b[A"
          ]
        },
        {
          "output_type": "stream",
          "name": "stdout",
          "text": [
            "[12:50:05] WARNING: /workspace/src/objective/regression_obj.cu:152: reg:linear is now deprecated in favor of reg:squarederror.\n"
          ]
        },
        {
          "output_type": "stream",
          "name": "stderr",
          "text": [
            "\n",
            "loop param_grid:  83%|██████████████████████████████      | 10/12 [00:47<00:09,  4.95s/it]\u001b[A"
          ]
        },
        {
          "output_type": "stream",
          "name": "stdout",
          "text": [
            "[12:50:12] WARNING: /workspace/src/objective/regression_obj.cu:152: reg:linear is now deprecated in favor of reg:squarederror.\n"
          ]
        },
        {
          "output_type": "stream",
          "name": "stderr",
          "text": [
            "\n",
            "loop param_grid:  92%|█████████████████████████████████   | 11/12 [00:49<00:04,  4.31s/it]\u001b[A"
          ]
        },
        {
          "output_type": "stream",
          "name": "stdout",
          "text": [
            "[12:50:15] WARNING: /workspace/src/objective/regression_obj.cu:152: reg:linear is now deprecated in favor of reg:squarederror.\n"
          ]
        },
        {
          "output_type": "stream",
          "name": "stderr",
          "text": [
            "\n",
            "loop param_grid: 100%|████████████████████████████████████| 12/12 [01:05<00:00,  7.83s/it]\u001b[A\n",
            "loop lags_grid:  25%|█████████▊                             | 1/4 [01:05<03:17, 65.85s/it]\n",
            "loop param_grid:   0%|                                             | 0/12 [00:00<?, ?it/s]\u001b[A"
          ]
        },
        {
          "output_type": "stream",
          "name": "stdout",
          "text": [
            "[12:50:31] WARNING: /workspace/src/objective/regression_obj.cu:152: reg:linear is now deprecated in favor of reg:squarederror.\n"
          ]
        },
        {
          "output_type": "stream",
          "name": "stderr",
          "text": [
            "\n",
            "loop param_grid:   8%|███                                  | 1/12 [00:01<00:20,  1.91s/it]\u001b[A"
          ]
        },
        {
          "output_type": "stream",
          "name": "stdout",
          "text": [
            "[12:50:33] WARNING: /workspace/src/objective/regression_obj.cu:152: reg:linear is now deprecated in favor of reg:squarederror.\n"
          ]
        },
        {
          "output_type": "stream",
          "name": "stderr",
          "text": [
            "\n",
            "loop param_grid:  17%|██████▏                              | 2/12 [00:10<00:58,  5.84s/it]\u001b[A"
          ]
        },
        {
          "output_type": "stream",
          "name": "stdout",
          "text": [
            "[12:50:42] WARNING: /workspace/src/objective/regression_obj.cu:152: reg:linear is now deprecated in favor of reg:squarederror.\n"
          ]
        },
        {
          "output_type": "stream",
          "name": "stderr",
          "text": [
            "\n",
            "loop param_grid:  25%|█████████▎                           | 3/12 [00:13<00:40,  4.48s/it]\u001b[A"
          ]
        },
        {
          "output_type": "stream",
          "name": "stdout",
          "text": [
            "[12:50:44] WARNING: /workspace/src/objective/regression_obj.cu:152: reg:linear is now deprecated in favor of reg:squarederror.\n"
          ]
        },
        {
          "output_type": "stream",
          "name": "stderr",
          "text": [
            "\n",
            "loop param_grid:  33%|████████████▎                        | 4/12 [00:27<01:06,  8.33s/it]\u001b[A"
          ]
        },
        {
          "output_type": "stream",
          "name": "stdout",
          "text": [
            "[12:50:59] WARNING: /workspace/src/objective/regression_obj.cu:152: reg:linear is now deprecated in favor of reg:squarederror.\n"
          ]
        },
        {
          "output_type": "stream",
          "name": "stderr",
          "text": [
            "\n",
            "loop param_grid:  42%|███████████████▍                     | 5/12 [00:30<00:44,  6.37s/it]\u001b[A"
          ]
        },
        {
          "output_type": "stream",
          "name": "stdout",
          "text": [
            "[12:51:02] WARNING: /workspace/src/objective/regression_obj.cu:152: reg:linear is now deprecated in favor of reg:squarederror.\n"
          ]
        },
        {
          "output_type": "stream",
          "name": "stderr",
          "text": [
            "\n",
            "loop param_grid:  50%|██████████████████▌                  | 6/12 [00:50<01:05, 10.92s/it]\u001b[A"
          ]
        },
        {
          "output_type": "stream",
          "name": "stdout",
          "text": [
            "[12:51:21] WARNING: /workspace/src/objective/regression_obj.cu:152: reg:linear is now deprecated in favor of reg:squarederror.\n"
          ]
        },
        {
          "output_type": "stream",
          "name": "stderr",
          "text": [
            "\n",
            "loop param_grid:  58%|█████████████████████▌               | 7/12 [00:52<00:39,  8.00s/it]\u001b[A"
          ]
        },
        {
          "output_type": "stream",
          "name": "stdout",
          "text": [
            "[12:51:23] WARNING: /workspace/src/objective/regression_obj.cu:152: reg:linear is now deprecated in favor of reg:squarederror.\n"
          ]
        },
        {
          "output_type": "stream",
          "name": "stderr",
          "text": [
            "\n",
            "loop param_grid:  67%|████████████████████████▋            | 8/12 [01:01<00:33,  8.27s/it]\u001b[A"
          ]
        },
        {
          "output_type": "stream",
          "name": "stdout",
          "text": [
            "[12:51:32] WARNING: /workspace/src/objective/regression_obj.cu:152: reg:linear is now deprecated in favor of reg:squarederror.\n"
          ]
        },
        {
          "output_type": "stream",
          "name": "stderr",
          "text": [
            "\n",
            "loop param_grid:  75%|███████████████████████████▊         | 9/12 [01:04<00:19,  6.62s/it]\u001b[A"
          ]
        },
        {
          "output_type": "stream",
          "name": "stdout",
          "text": [
            "[12:51:35] WARNING: /workspace/src/objective/regression_obj.cu:152: reg:linear is now deprecated in favor of reg:squarederror.\n"
          ]
        },
        {
          "output_type": "stream",
          "name": "stderr",
          "text": [
            "\n",
            "loop param_grid:  83%|██████████████████████████████      | 10/12 [01:18<00:18,  9.05s/it]\u001b[A"
          ]
        },
        {
          "output_type": "stream",
          "name": "stdout",
          "text": [
            "[12:51:50] WARNING: /workspace/src/objective/regression_obj.cu:152: reg:linear is now deprecated in favor of reg:squarederror.\n"
          ]
        },
        {
          "output_type": "stream",
          "name": "stderr",
          "text": [
            "\n",
            "loop param_grid:  92%|█████████████████████████████████   | 11/12 [01:23<00:07,  7.83s/it]\u001b[A"
          ]
        },
        {
          "output_type": "stream",
          "name": "stdout",
          "text": [
            "[12:51:55] WARNING: /workspace/src/objective/regression_obj.cu:152: reg:linear is now deprecated in favor of reg:squarederror.\n"
          ]
        },
        {
          "output_type": "stream",
          "name": "stderr",
          "text": [
            "\n",
            "loop param_grid: 100%|████████████████████████████████████| 12/12 [01:52<00:00, 14.38s/it]\u001b[A\n",
            "loop lags_grid:  50%|███████████████████▌                   | 2/4 [02:58<03:07, 93.59s/it]\n",
            "loop param_grid:   0%|                                             | 0/12 [00:00<?, ?it/s]\u001b[A"
          ]
        },
        {
          "output_type": "stream",
          "name": "stdout",
          "text": [
            "[12:52:24] WARNING: /workspace/src/objective/regression_obj.cu:152: reg:linear is now deprecated in favor of reg:squarederror.\n"
          ]
        },
        {
          "output_type": "stream",
          "name": "stderr",
          "text": [
            "\n",
            "loop param_grid:   8%|███                                  | 1/12 [00:02<00:30,  2.75s/it]\u001b[A"
          ]
        },
        {
          "output_type": "stream",
          "name": "stdout",
          "text": [
            "[12:52:27] WARNING: /workspace/src/objective/regression_obj.cu:152: reg:linear is now deprecated in favor of reg:squarederror.\n"
          ]
        },
        {
          "output_type": "stream",
          "name": "stderr",
          "text": [
            "\n",
            "loop param_grid:  17%|██████▏                              | 2/12 [00:15<01:24,  8.44s/it]\u001b[A"
          ]
        },
        {
          "output_type": "stream",
          "name": "stdout",
          "text": [
            "[12:52:39] WARNING: /workspace/src/objective/regression_obj.cu:152: reg:linear is now deprecated in favor of reg:squarederror.\n"
          ]
        },
        {
          "output_type": "stream",
          "name": "stderr",
          "text": [
            "\n",
            "loop param_grid:  25%|█████████▎                           | 3/12 [00:20<01:02,  6.90s/it]\u001b[A"
          ]
        },
        {
          "output_type": "stream",
          "name": "stdout",
          "text": [
            "[12:52:44] WARNING: /workspace/src/objective/regression_obj.cu:152: reg:linear is now deprecated in favor of reg:squarederror.\n"
          ]
        },
        {
          "output_type": "stream",
          "name": "stderr",
          "text": [
            "\n",
            "loop param_grid:  33%|████████████▎                        | 4/12 [00:40<01:35, 12.00s/it]\u001b[A"
          ]
        },
        {
          "output_type": "stream",
          "name": "stdout",
          "text": [
            "[12:53:04] WARNING: /workspace/src/objective/regression_obj.cu:152: reg:linear is now deprecated in favor of reg:squarederror.\n"
          ]
        },
        {
          "output_type": "stream",
          "name": "stderr",
          "text": [
            "\n",
            "loop param_grid:  42%|███████████████▍                     | 5/12 [00:44<01:04,  9.16s/it]\u001b[A"
          ]
        },
        {
          "output_type": "stream",
          "name": "stdout",
          "text": [
            "[12:53:08] WARNING: /workspace/src/objective/regression_obj.cu:152: reg:linear is now deprecated in favor of reg:squarederror.\n"
          ]
        },
        {
          "output_type": "stream",
          "name": "stderr",
          "text": [
            "\n",
            "loop param_grid:  50%|██████████████████▌                  | 6/12 [01:12<01:33, 15.54s/it]\u001b[A"
          ]
        },
        {
          "output_type": "stream",
          "name": "stdout",
          "text": [
            "[12:53:36] WARNING: /workspace/src/objective/regression_obj.cu:152: reg:linear is now deprecated in favor of reg:squarederror.\n"
          ]
        },
        {
          "output_type": "stream",
          "name": "stderr",
          "text": [
            "\n",
            "loop param_grid:  58%|█████████████████████▌               | 7/12 [01:14<00:56, 11.37s/it]\u001b[A"
          ]
        },
        {
          "output_type": "stream",
          "name": "stdout",
          "text": [
            "[12:53:39] WARNING: /workspace/src/objective/regression_obj.cu:152: reg:linear is now deprecated in favor of reg:squarederror.\n"
          ]
        },
        {
          "output_type": "stream",
          "name": "stderr",
          "text": [
            "\n",
            "loop param_grid:  67%|████████████████████████▋            | 8/12 [01:27<00:47, 11.83s/it]\u001b[A"
          ]
        },
        {
          "output_type": "stream",
          "name": "stdout",
          "text": [
            "[12:53:52] WARNING: /workspace/src/objective/regression_obj.cu:152: reg:linear is now deprecated in favor of reg:squarederror.\n"
          ]
        },
        {
          "output_type": "stream",
          "name": "stderr",
          "text": [
            "\n",
            "loop param_grid:  75%|███████████████████████████▊         | 9/12 [01:31<00:28,  9.47s/it]\u001b[A"
          ]
        },
        {
          "output_type": "stream",
          "name": "stdout",
          "text": [
            "[12:53:56] WARNING: /workspace/src/objective/regression_obj.cu:152: reg:linear is now deprecated in favor of reg:squarederror.\n"
          ]
        },
        {
          "output_type": "stream",
          "name": "stderr",
          "text": [
            "\n",
            "loop param_grid:  83%|██████████████████████████████      | 10/12 [01:53<00:26, 13.04s/it]\u001b[A"
          ]
        },
        {
          "output_type": "stream",
          "name": "stdout",
          "text": [
            "[12:54:17] WARNING: /workspace/src/objective/regression_obj.cu:152: reg:linear is now deprecated in favor of reg:squarederror.\n"
          ]
        },
        {
          "output_type": "stream",
          "name": "stderr",
          "text": [
            "\n",
            "loop param_grid:  92%|█████████████████████████████████   | 11/12 [02:00<00:11, 11.28s/it]\u001b[A"
          ]
        },
        {
          "output_type": "stream",
          "name": "stdout",
          "text": [
            "[12:54:24] WARNING: /workspace/src/objective/regression_obj.cu:152: reg:linear is now deprecated in favor of reg:squarederror.\n"
          ]
        },
        {
          "output_type": "stream",
          "name": "stderr",
          "text": [
            "\n",
            "loop param_grid: 100%|████████████████████████████████████| 12/12 [02:42<00:00, 20.54s/it]\u001b[A\n",
            "loop lags_grid:  75%|████████████████████████████▌         | 3/4 [05:40<02:04, 124.85s/it]\n",
            "loop param_grid:   0%|                                             | 0/12 [00:00<?, ?it/s]\u001b[A"
          ]
        },
        {
          "output_type": "stream",
          "name": "stdout",
          "text": [
            "[12:55:06] WARNING: /workspace/src/objective/regression_obj.cu:152: reg:linear is now deprecated in favor of reg:squarederror.\n"
          ]
        },
        {
          "output_type": "stream",
          "name": "stderr",
          "text": [
            "\n",
            "loop param_grid:   8%|███                                  | 1/12 [00:00<00:07,  1.56it/s]\u001b[A"
          ]
        },
        {
          "output_type": "stream",
          "name": "stdout",
          "text": [
            "[12:55:07] WARNING: /workspace/src/objective/regression_obj.cu:152: reg:linear is now deprecated in favor of reg:squarederror.\n"
          ]
        },
        {
          "output_type": "stream",
          "name": "stderr",
          "text": [
            "\n",
            "loop param_grid:  17%|██████▏                              | 2/12 [00:02<00:16,  1.61s/it]\u001b[A"
          ]
        },
        {
          "output_type": "stream",
          "name": "stdout",
          "text": [
            "[12:55:09] WARNING: /workspace/src/objective/regression_obj.cu:152: reg:linear is now deprecated in favor of reg:squarederror.\n"
          ]
        },
        {
          "output_type": "stream",
          "name": "stderr",
          "text": [
            "\n",
            "loop param_grid:  25%|█████████▎                           | 3/12 [00:03<00:11,  1.26s/it]\u001b[A"
          ]
        },
        {
          "output_type": "stream",
          "name": "stdout",
          "text": [
            "[12:55:10] WARNING: /workspace/src/objective/regression_obj.cu:152: reg:linear is now deprecated in favor of reg:squarederror.\n"
          ]
        },
        {
          "output_type": "stream",
          "name": "stderr",
          "text": [
            "\n",
            "loop param_grid:  33%|████████████▎                        | 4/12 [00:07<00:17,  2.14s/it]\u001b[A"
          ]
        },
        {
          "output_type": "stream",
          "name": "stdout",
          "text": [
            "[12:55:13] WARNING: /workspace/src/objective/regression_obj.cu:152: reg:linear is now deprecated in favor of reg:squarederror.\n"
          ]
        },
        {
          "output_type": "stream",
          "name": "stderr",
          "text": [
            "\n",
            "loop param_grid:  42%|███████████████▍                     | 5/12 [00:08<00:11,  1.67s/it]\u001b[A"
          ]
        },
        {
          "output_type": "stream",
          "name": "stdout",
          "text": [
            "[12:55:14] WARNING: /workspace/src/objective/regression_obj.cu:152: reg:linear is now deprecated in favor of reg:squarederror.\n"
          ]
        },
        {
          "output_type": "stream",
          "name": "stderr",
          "text": [
            "\n",
            "loop param_grid:  50%|██████████████████▌                  | 6/12 [00:12<00:16,  2.71s/it]\u001b[A"
          ]
        },
        {
          "output_type": "stream",
          "name": "stdout",
          "text": [
            "[12:55:19] WARNING: /workspace/src/objective/regression_obj.cu:152: reg:linear is now deprecated in favor of reg:squarederror.\n"
          ]
        },
        {
          "output_type": "stream",
          "name": "stderr",
          "text": [
            "\n",
            "loop param_grid:  58%|█████████████████████▌               | 7/12 [00:13<00:10,  2.03s/it]\u001b[A"
          ]
        },
        {
          "output_type": "stream",
          "name": "stdout",
          "text": [
            "[12:55:20] WARNING: /workspace/src/objective/regression_obj.cu:152: reg:linear is now deprecated in favor of reg:squarederror.\n"
          ]
        },
        {
          "output_type": "stream",
          "name": "stderr",
          "text": [
            "\n",
            "loop param_grid:  67%|████████████████████████▋            | 8/12 [00:15<00:08,  2.14s/it]\u001b[A"
          ]
        },
        {
          "output_type": "stream",
          "name": "stdout",
          "text": [
            "[12:55:22] WARNING: /workspace/src/objective/regression_obj.cu:152: reg:linear is now deprecated in favor of reg:squarederror.\n"
          ]
        },
        {
          "output_type": "stream",
          "name": "stderr",
          "text": [
            "\n",
            "loop param_grid:  75%|███████████████████████████▊         | 9/12 [00:16<00:05,  1.76s/it]\u001b[A"
          ]
        },
        {
          "output_type": "stream",
          "name": "stdout",
          "text": [
            "[12:55:23] WARNING: /workspace/src/objective/regression_obj.cu:152: reg:linear is now deprecated in favor of reg:squarederror.\n"
          ]
        },
        {
          "output_type": "stream",
          "name": "stderr",
          "text": [
            "\n",
            "loop param_grid:  83%|██████████████████████████████      | 10/12 [00:20<00:04,  2.38s/it]\u001b[A"
          ]
        },
        {
          "output_type": "stream",
          "name": "stdout",
          "text": [
            "[12:55:27] WARNING: /workspace/src/objective/regression_obj.cu:152: reg:linear is now deprecated in favor of reg:squarederror.\n"
          ]
        },
        {
          "output_type": "stream",
          "name": "stderr",
          "text": [
            "\n",
            "loop param_grid:  92%|█████████████████████████████████   | 11/12 [00:21<00:02,  2.09s/it]\u001b[A"
          ]
        },
        {
          "output_type": "stream",
          "name": "stdout",
          "text": [
            "[12:55:28] WARNING: /workspace/src/objective/regression_obj.cu:152: reg:linear is now deprecated in favor of reg:squarederror.\n"
          ]
        },
        {
          "output_type": "stream",
          "name": "stderr",
          "text": [
            "\n",
            "loop param_grid: 100%|████████████████████████████████████| 12/12 [00:29<00:00,  3.77s/it]\u001b[A\n",
            "loop lags_grid: 100%|███████████████████████████████████████| 4/4 [06:10<00:00, 92.63s/it]\n"
          ]
        },
        {
          "output_type": "stream",
          "name": "stdout",
          "text": [
            "[12:55:36] WARNING: /workspace/src/objective/regression_obj.cu:152: reg:linear is now deprecated in favor of reg:squarederror.\n",
            "`Forecaster` refitted using the best-found lags and parameters, and the whole data set: \n",
            "  Lags: [ 1  2  3  4  5  6  7  8  9 10 11 12 13 14 15 16 17 18 19 20 21 22 23 24\n",
            " 25 26 27 28 29 30 31 32 33 34 35 36 37 38 39 40 41 42 43 44 45 46 47 48\n",
            " 49 50 51 52 53 54 55 56 57 58 59 60 61 62 63 64 65 66 67 68 69 70 71 72] \n",
            "  Parameters: {'learning_rate': 0.01, 'max_depth': 3, 'n_estimators': 500}\n",
            "  Backtesting metric: 486491.1618396155\n",
            "\n"
          ]
        }
      ]
    },
    {
      "cell_type": "code",
      "source": [
        "results_grid.head(10)"
      ],
      "metadata": {
        "colab": {
          "base_uri": "https://localhost:8080/",
          "height": 362
        },
        "id": "p97fiNHi7BAp",
        "outputId": "8db31378-949b-4171-be56-166cb166c397"
      },
      "execution_count": null,
      "outputs": [
        {
          "output_type": "execute_result",
          "data": {
            "text/plain": [
              "                                                 lags  \\\n",
              "25  [1, 2, 3, 4, 5, 6, 7, 8, 9, 10, 11, 12, 13, 14...   \n",
              "18  [1, 2, 3, 4, 5, 6, 7, 8, 9, 10, 11, 12, 13, 14...   \n",
              "21  [1, 2, 3, 4, 5, 6, 7, 8, 9, 10, 11, 12, 13, 14...   \n",
              "37                  [1, 2, 3, 23, 24, 25, 71, 72, 73]   \n",
              "13  [1, 2, 3, 4, 5, 6, 7, 8, 9, 10, 11, 12, 13, 14...   \n",
              "20  [1, 2, 3, 4, 5, 6, 7, 8, 9, 10, 11, 12, 13, 14...   \n",
              "33  [1, 2, 3, 4, 5, 6, 7, 8, 9, 10, 11, 12, 13, 14...   \n",
              "23  [1, 2, 3, 4, 5, 6, 7, 8, 9, 10, 11, 12, 13, 14...   \n",
              "19  [1, 2, 3, 4, 5, 6, 7, 8, 9, 10, 11, 12, 13, 14...   \n",
              "32  [1, 2, 3, 4, 5, 6, 7, 8, 9, 10, 11, 12, 13, 14...   \n",
              "\n",
              "                                               params         metric  \\\n",
              "25  {'learning_rate': 0.01, 'max_depth': 3, 'n_est...  486491.161840   \n",
              "18  {'learning_rate': 0.1, 'max_depth': 3, 'n_esti...  510063.626219   \n",
              "21  {'learning_rate': 0.1, 'max_depth': 5, 'n_esti...  515482.988558   \n",
              "37  {'learning_rate': 0.01, 'max_depth': 3, 'n_est...  518393.851687   \n",
              "13  {'learning_rate': 0.01, 'max_depth': 3, 'n_est...  519608.274842   \n",
              "20  {'learning_rate': 0.1, 'max_depth': 5, 'n_esti...  522656.766306   \n",
              "33  {'learning_rate': 0.1, 'max_depth': 5, 'n_esti...  524650.743193   \n",
              "23  {'learning_rate': 0.1, 'max_depth': 10, 'n_est...  527910.128949   \n",
              "19  {'learning_rate': 0.1, 'max_depth': 3, 'n_esti...  528489.136754   \n",
              "32  {'learning_rate': 0.1, 'max_depth': 5, 'n_esti...  532834.343515   \n",
              "\n",
              "    learning_rate  max_depth  n_estimators  \n",
              "25           0.01        3.0         500.0  \n",
              "18           0.10        3.0         100.0  \n",
              "21           0.10        5.0         500.0  \n",
              "37           0.01        3.0         500.0  \n",
              "13           0.01        3.0         500.0  \n",
              "20           0.10        5.0         100.0  \n",
              "33           0.10        5.0         500.0  \n",
              "23           0.10       10.0         500.0  \n",
              "19           0.10        3.0         500.0  \n",
              "32           0.10        5.0         100.0  "
            ],
            "text/html": [
              "\n",
              "  <div id=\"df-11d9d1c2-af5d-412d-8055-b661c58893fb\">\n",
              "    <div class=\"colab-df-container\">\n",
              "      <div>\n",
              "<style scoped>\n",
              "    .dataframe tbody tr th:only-of-type {\n",
              "        vertical-align: middle;\n",
              "    }\n",
              "\n",
              "    .dataframe tbody tr th {\n",
              "        vertical-align: top;\n",
              "    }\n",
              "\n",
              "    .dataframe thead th {\n",
              "        text-align: right;\n",
              "    }\n",
              "</style>\n",
              "<table border=\"1\" class=\"dataframe\">\n",
              "  <thead>\n",
              "    <tr style=\"text-align: right;\">\n",
              "      <th></th>\n",
              "      <th>lags</th>\n",
              "      <th>params</th>\n",
              "      <th>metric</th>\n",
              "      <th>learning_rate</th>\n",
              "      <th>max_depth</th>\n",
              "      <th>n_estimators</th>\n",
              "    </tr>\n",
              "  </thead>\n",
              "  <tbody>\n",
              "    <tr>\n",
              "      <th>25</th>\n",
              "      <td>[1, 2, 3, 4, 5, 6, 7, 8, 9, 10, 11, 12, 13, 14...</td>\n",
              "      <td>{'learning_rate': 0.01, 'max_depth': 3, 'n_est...</td>\n",
              "      <td>486491.161840</td>\n",
              "      <td>0.01</td>\n",
              "      <td>3.0</td>\n",
              "      <td>500.0</td>\n",
              "    </tr>\n",
              "    <tr>\n",
              "      <th>18</th>\n",
              "      <td>[1, 2, 3, 4, 5, 6, 7, 8, 9, 10, 11, 12, 13, 14...</td>\n",
              "      <td>{'learning_rate': 0.1, 'max_depth': 3, 'n_esti...</td>\n",
              "      <td>510063.626219</td>\n",
              "      <td>0.10</td>\n",
              "      <td>3.0</td>\n",
              "      <td>100.0</td>\n",
              "    </tr>\n",
              "    <tr>\n",
              "      <th>21</th>\n",
              "      <td>[1, 2, 3, 4, 5, 6, 7, 8, 9, 10, 11, 12, 13, 14...</td>\n",
              "      <td>{'learning_rate': 0.1, 'max_depth': 5, 'n_esti...</td>\n",
              "      <td>515482.988558</td>\n",
              "      <td>0.10</td>\n",
              "      <td>5.0</td>\n",
              "      <td>500.0</td>\n",
              "    </tr>\n",
              "    <tr>\n",
              "      <th>37</th>\n",
              "      <td>[1, 2, 3, 23, 24, 25, 71, 72, 73]</td>\n",
              "      <td>{'learning_rate': 0.01, 'max_depth': 3, 'n_est...</td>\n",
              "      <td>518393.851687</td>\n",
              "      <td>0.01</td>\n",
              "      <td>3.0</td>\n",
              "      <td>500.0</td>\n",
              "    </tr>\n",
              "    <tr>\n",
              "      <th>13</th>\n",
              "      <td>[1, 2, 3, 4, 5, 6, 7, 8, 9, 10, 11, 12, 13, 14...</td>\n",
              "      <td>{'learning_rate': 0.01, 'max_depth': 3, 'n_est...</td>\n",
              "      <td>519608.274842</td>\n",
              "      <td>0.01</td>\n",
              "      <td>3.0</td>\n",
              "      <td>500.0</td>\n",
              "    </tr>\n",
              "    <tr>\n",
              "      <th>20</th>\n",
              "      <td>[1, 2, 3, 4, 5, 6, 7, 8, 9, 10, 11, 12, 13, 14...</td>\n",
              "      <td>{'learning_rate': 0.1, 'max_depth': 5, 'n_esti...</td>\n",
              "      <td>522656.766306</td>\n",
              "      <td>0.10</td>\n",
              "      <td>5.0</td>\n",
              "      <td>100.0</td>\n",
              "    </tr>\n",
              "    <tr>\n",
              "      <th>33</th>\n",
              "      <td>[1, 2, 3, 4, 5, 6, 7, 8, 9, 10, 11, 12, 13, 14...</td>\n",
              "      <td>{'learning_rate': 0.1, 'max_depth': 5, 'n_esti...</td>\n",
              "      <td>524650.743193</td>\n",
              "      <td>0.10</td>\n",
              "      <td>5.0</td>\n",
              "      <td>500.0</td>\n",
              "    </tr>\n",
              "    <tr>\n",
              "      <th>23</th>\n",
              "      <td>[1, 2, 3, 4, 5, 6, 7, 8, 9, 10, 11, 12, 13, 14...</td>\n",
              "      <td>{'learning_rate': 0.1, 'max_depth': 10, 'n_est...</td>\n",
              "      <td>527910.128949</td>\n",
              "      <td>0.10</td>\n",
              "      <td>10.0</td>\n",
              "      <td>500.0</td>\n",
              "    </tr>\n",
              "    <tr>\n",
              "      <th>19</th>\n",
              "      <td>[1, 2, 3, 4, 5, 6, 7, 8, 9, 10, 11, 12, 13, 14...</td>\n",
              "      <td>{'learning_rate': 0.1, 'max_depth': 3, 'n_esti...</td>\n",
              "      <td>528489.136754</td>\n",
              "      <td>0.10</td>\n",
              "      <td>3.0</td>\n",
              "      <td>500.0</td>\n",
              "    </tr>\n",
              "    <tr>\n",
              "      <th>32</th>\n",
              "      <td>[1, 2, 3, 4, 5, 6, 7, 8, 9, 10, 11, 12, 13, 14...</td>\n",
              "      <td>{'learning_rate': 0.1, 'max_depth': 5, 'n_esti...</td>\n",
              "      <td>532834.343515</td>\n",
              "      <td>0.10</td>\n",
              "      <td>5.0</td>\n",
              "      <td>100.0</td>\n",
              "    </tr>\n",
              "  </tbody>\n",
              "</table>\n",
              "</div>\n",
              "      <button class=\"colab-df-convert\" onclick=\"convertToInteractive('df-11d9d1c2-af5d-412d-8055-b661c58893fb')\"\n",
              "              title=\"Convert this dataframe to an interactive table.\"\n",
              "              style=\"display:none;\">\n",
              "        \n",
              "  <svg xmlns=\"http://www.w3.org/2000/svg\" height=\"24px\"viewBox=\"0 0 24 24\"\n",
              "       width=\"24px\">\n",
              "    <path d=\"M0 0h24v24H0V0z\" fill=\"none\"/>\n",
              "    <path d=\"M18.56 5.44l.94 2.06.94-2.06 2.06-.94-2.06-.94-.94-2.06-.94 2.06-2.06.94zm-11 1L8.5 8.5l.94-2.06 2.06-.94-2.06-.94L8.5 2.5l-.94 2.06-2.06.94zm10 10l.94 2.06.94-2.06 2.06-.94-2.06-.94-.94-2.06-.94 2.06-2.06.94z\"/><path d=\"M17.41 7.96l-1.37-1.37c-.4-.4-.92-.59-1.43-.59-.52 0-1.04.2-1.43.59L10.3 9.45l-7.72 7.72c-.78.78-.78 2.05 0 2.83L4 21.41c.39.39.9.59 1.41.59.51 0 1.02-.2 1.41-.59l7.78-7.78 2.81-2.81c.8-.78.8-2.07 0-2.86zM5.41 20L4 18.59l7.72-7.72 1.47 1.35L5.41 20z\"/>\n",
              "  </svg>\n",
              "      </button>\n",
              "      \n",
              "  <style>\n",
              "    .colab-df-container {\n",
              "      display:flex;\n",
              "      flex-wrap:wrap;\n",
              "      gap: 12px;\n",
              "    }\n",
              "\n",
              "    .colab-df-convert {\n",
              "      background-color: #E8F0FE;\n",
              "      border: none;\n",
              "      border-radius: 50%;\n",
              "      cursor: pointer;\n",
              "      display: none;\n",
              "      fill: #1967D2;\n",
              "      height: 32px;\n",
              "      padding: 0 0 0 0;\n",
              "      width: 32px;\n",
              "    }\n",
              "\n",
              "    .colab-df-convert:hover {\n",
              "      background-color: #E2EBFA;\n",
              "      box-shadow: 0px 1px 2px rgba(60, 64, 67, 0.3), 0px 1px 3px 1px rgba(60, 64, 67, 0.15);\n",
              "      fill: #174EA6;\n",
              "    }\n",
              "\n",
              "    [theme=dark] .colab-df-convert {\n",
              "      background-color: #3B4455;\n",
              "      fill: #D2E3FC;\n",
              "    }\n",
              "\n",
              "    [theme=dark] .colab-df-convert:hover {\n",
              "      background-color: #434B5C;\n",
              "      box-shadow: 0px 1px 3px 1px rgba(0, 0, 0, 0.15);\n",
              "      filter: drop-shadow(0px 1px 2px rgba(0, 0, 0, 0.3));\n",
              "      fill: #FFFFFF;\n",
              "    }\n",
              "  </style>\n",
              "\n",
              "      <script>\n",
              "        const buttonEl =\n",
              "          document.querySelector('#df-11d9d1c2-af5d-412d-8055-b661c58893fb button.colab-df-convert');\n",
              "        buttonEl.style.display =\n",
              "          google.colab.kernel.accessAllowed ? 'block' : 'none';\n",
              "\n",
              "        async function convertToInteractive(key) {\n",
              "          const element = document.querySelector('#df-11d9d1c2-af5d-412d-8055-b661c58893fb');\n",
              "          const dataTable =\n",
              "            await google.colab.kernel.invokeFunction('convertToInteractive',\n",
              "                                                     [key], {});\n",
              "          if (!dataTable) return;\n",
              "\n",
              "          const docLinkHtml = 'Like what you see? Visit the ' +\n",
              "            '<a target=\"_blank\" href=https://colab.research.google.com/notebooks/data_table.ipynb>data table notebook</a>'\n",
              "            + ' to learn more about interactive tables.';\n",
              "          element.innerHTML = '';\n",
              "          dataTable['output_type'] = 'display_data';\n",
              "          await google.colab.output.renderOutput(dataTable, element);\n",
              "          const docLink = document.createElement('div');\n",
              "          docLink.innerHTML = docLinkHtml;\n",
              "          element.appendChild(docLink);\n",
              "        }\n",
              "      </script>\n",
              "    </div>\n",
              "  </div>\n",
              "  "
            ]
          },
          "metadata": {},
          "execution_count": 30
        }
      ]
    },
    {
      "cell_type": "code",
      "source": [
        "# Backtesting\n",
        "metric, predictions = backtesting_forecaster(\n",
        "    forecaster = forecaster,\n",
        "    y          = daily1['USD'],\n",
        "    initial_train_size = len(daily1.loc[:val_date]),\n",
        "    fixed_train_size   = False,\n",
        "    steps      = 24,\n",
        "    refit      = False,\n",
        "    metric     = 'mean_squared_error',\n",
        "    verbose    = False # Change to True to see detailed information\n",
        ")"
      ],
      "metadata": {
        "colab": {
          "base_uri": "https://localhost:8080/"
        },
        "id": "IOfSMIsAFSd9",
        "outputId": "b7b6f635-f47e-4319-f98c-ddcdc28d1bca"
      },
      "execution_count": null,
      "outputs": [
        {
          "output_type": "stream",
          "name": "stdout",
          "text": [
            "[13:34:33] WARNING: /workspace/src/objective/regression_obj.cu:152: reg:linear is now deprecated in favor of reg:squarederror.\n",
            "[13:34:34] WARNING: /workspace/src/objective/regression_obj.cu:152: reg:linear is now deprecated in favor of reg:squarederror.\n"
          ]
        }
      ]
    },
    {
      "cell_type": "code",
      "source": [
        "print(f\"Backtest error: {metric}\")"
      ],
      "metadata": {
        "colab": {
          "base_uri": "https://localhost:8080/"
        },
        "id": "HjzPqXUeFV1S",
        "outputId": "7b8943a7-b151-4f77-d5bc-76ed659334ec"
      },
      "execution_count": null,
      "outputs": [
        {
          "output_type": "stream",
          "name": "stdout",
          "text": [
            "Backtest error: 12266.071829058372\n"
          ]
        }
      ]
    },
    {
      "cell_type": "code",
      "source": [
        "# Index is added to predictions\n",
        "predictions.index = test.index"
      ],
      "metadata": {
        "id": "8p1D9IaDFd9z"
      },
      "execution_count": null,
      "outputs": []
    },
    {
      "cell_type": "code",
      "source": [
        "predictions"
      ],
      "metadata": {
        "colab": {
          "base_uri": "https://localhost:8080/",
          "height": 455
        },
        "id": "4166AD9WFgnu",
        "outputId": "a07ff949-664d-46ab-8fda-bf2a28a612cf"
      },
      "execution_count": null,
      "outputs": [
        {
          "output_type": "execute_result",
          "data": {
            "text/plain": [
              "                   pred\n",
              "Date                   \n",
              "2014-10-15  1228.988892\n",
              "2014-10-16  1216.596313\n",
              "2014-10-17  1209.793945\n",
              "2014-10-20  1201.726929\n",
              "2014-10-21  1197.365845\n",
              "...                 ...\n",
              "2022-03-21  1635.652954\n",
              "2022-03-22  1635.652954\n",
              "2022-03-23  1635.652954\n",
              "2022-03-24  1635.652954\n",
              "2022-03-25  1635.652954\n",
              "\n",
              "[1943 rows x 1 columns]"
            ],
            "text/html": [
              "\n",
              "  <div id=\"df-dc725f4f-6e94-4ff6-bf9e-df4a4fa2d02d\">\n",
              "    <div class=\"colab-df-container\">\n",
              "      <div>\n",
              "<style scoped>\n",
              "    .dataframe tbody tr th:only-of-type {\n",
              "        vertical-align: middle;\n",
              "    }\n",
              "\n",
              "    .dataframe tbody tr th {\n",
              "        vertical-align: top;\n",
              "    }\n",
              "\n",
              "    .dataframe thead th {\n",
              "        text-align: right;\n",
              "    }\n",
              "</style>\n",
              "<table border=\"1\" class=\"dataframe\">\n",
              "  <thead>\n",
              "    <tr style=\"text-align: right;\">\n",
              "      <th></th>\n",
              "      <th>pred</th>\n",
              "    </tr>\n",
              "    <tr>\n",
              "      <th>Date</th>\n",
              "      <th></th>\n",
              "    </tr>\n",
              "  </thead>\n",
              "  <tbody>\n",
              "    <tr>\n",
              "      <th>2014-10-15</th>\n",
              "      <td>1228.988892</td>\n",
              "    </tr>\n",
              "    <tr>\n",
              "      <th>2014-10-16</th>\n",
              "      <td>1216.596313</td>\n",
              "    </tr>\n",
              "    <tr>\n",
              "      <th>2014-10-17</th>\n",
              "      <td>1209.793945</td>\n",
              "    </tr>\n",
              "    <tr>\n",
              "      <th>2014-10-20</th>\n",
              "      <td>1201.726929</td>\n",
              "    </tr>\n",
              "    <tr>\n",
              "      <th>2014-10-21</th>\n",
              "      <td>1197.365845</td>\n",
              "    </tr>\n",
              "    <tr>\n",
              "      <th>...</th>\n",
              "      <td>...</td>\n",
              "    </tr>\n",
              "    <tr>\n",
              "      <th>2022-03-21</th>\n",
              "      <td>1635.652954</td>\n",
              "    </tr>\n",
              "    <tr>\n",
              "      <th>2022-03-22</th>\n",
              "      <td>1635.652954</td>\n",
              "    </tr>\n",
              "    <tr>\n",
              "      <th>2022-03-23</th>\n",
              "      <td>1635.652954</td>\n",
              "    </tr>\n",
              "    <tr>\n",
              "      <th>2022-03-24</th>\n",
              "      <td>1635.652954</td>\n",
              "    </tr>\n",
              "    <tr>\n",
              "      <th>2022-03-25</th>\n",
              "      <td>1635.652954</td>\n",
              "    </tr>\n",
              "  </tbody>\n",
              "</table>\n",
              "<p>1943 rows × 1 columns</p>\n",
              "</div>\n",
              "      <button class=\"colab-df-convert\" onclick=\"convertToInteractive('df-dc725f4f-6e94-4ff6-bf9e-df4a4fa2d02d')\"\n",
              "              title=\"Convert this dataframe to an interactive table.\"\n",
              "              style=\"display:none;\">\n",
              "        \n",
              "  <svg xmlns=\"http://www.w3.org/2000/svg\" height=\"24px\"viewBox=\"0 0 24 24\"\n",
              "       width=\"24px\">\n",
              "    <path d=\"M0 0h24v24H0V0z\" fill=\"none\"/>\n",
              "    <path d=\"M18.56 5.44l.94 2.06.94-2.06 2.06-.94-2.06-.94-.94-2.06-.94 2.06-2.06.94zm-11 1L8.5 8.5l.94-2.06 2.06-.94-2.06-.94L8.5 2.5l-.94 2.06-2.06.94zm10 10l.94 2.06.94-2.06 2.06-.94-2.06-.94-.94-2.06-.94 2.06-2.06.94z\"/><path d=\"M17.41 7.96l-1.37-1.37c-.4-.4-.92-.59-1.43-.59-.52 0-1.04.2-1.43.59L10.3 9.45l-7.72 7.72c-.78.78-.78 2.05 0 2.83L4 21.41c.39.39.9.59 1.41.59.51 0 1.02-.2 1.41-.59l7.78-7.78 2.81-2.81c.8-.78.8-2.07 0-2.86zM5.41 20L4 18.59l7.72-7.72 1.47 1.35L5.41 20z\"/>\n",
              "  </svg>\n",
              "      </button>\n",
              "      \n",
              "  <style>\n",
              "    .colab-df-container {\n",
              "      display:flex;\n",
              "      flex-wrap:wrap;\n",
              "      gap: 12px;\n",
              "    }\n",
              "\n",
              "    .colab-df-convert {\n",
              "      background-color: #E8F0FE;\n",
              "      border: none;\n",
              "      border-radius: 50%;\n",
              "      cursor: pointer;\n",
              "      display: none;\n",
              "      fill: #1967D2;\n",
              "      height: 32px;\n",
              "      padding: 0 0 0 0;\n",
              "      width: 32px;\n",
              "    }\n",
              "\n",
              "    .colab-df-convert:hover {\n",
              "      background-color: #E2EBFA;\n",
              "      box-shadow: 0px 1px 2px rgba(60, 64, 67, 0.3), 0px 1px 3px 1px rgba(60, 64, 67, 0.15);\n",
              "      fill: #174EA6;\n",
              "    }\n",
              "\n",
              "    [theme=dark] .colab-df-convert {\n",
              "      background-color: #3B4455;\n",
              "      fill: #D2E3FC;\n",
              "    }\n",
              "\n",
              "    [theme=dark] .colab-df-convert:hover {\n",
              "      background-color: #434B5C;\n",
              "      box-shadow: 0px 1px 3px 1px rgba(0, 0, 0, 0.15);\n",
              "      filter: drop-shadow(0px 1px 2px rgba(0, 0, 0, 0.3));\n",
              "      fill: #FFFFFF;\n",
              "    }\n",
              "  </style>\n",
              "\n",
              "      <script>\n",
              "        const buttonEl =\n",
              "          document.querySelector('#df-dc725f4f-6e94-4ff6-bf9e-df4a4fa2d02d button.colab-df-convert');\n",
              "        buttonEl.style.display =\n",
              "          google.colab.kernel.accessAllowed ? 'block' : 'none';\n",
              "\n",
              "        async function convertToInteractive(key) {\n",
              "          const element = document.querySelector('#df-dc725f4f-6e94-4ff6-bf9e-df4a4fa2d02d');\n",
              "          const dataTable =\n",
              "            await google.colab.kernel.invokeFunction('convertToInteractive',\n",
              "                                                     [key], {});\n",
              "          if (!dataTable) return;\n",
              "\n",
              "          const docLinkHtml = 'Like what you see? Visit the ' +\n",
              "            '<a target=\"_blank\" href=https://colab.research.google.com/notebooks/data_table.ipynb>data table notebook</a>'\n",
              "            + ' to learn more about interactive tables.';\n",
              "          element.innerHTML = '';\n",
              "          dataTable['output_type'] = 'display_data';\n",
              "          await google.colab.output.renderOutput(dataTable, element);\n",
              "          const docLink = document.createElement('div');\n",
              "          docLink.innerHTML = docLinkHtml;\n",
              "          element.appendChild(docLink);\n",
              "        }\n",
              "      </script>\n",
              "    </div>\n",
              "  </div>\n",
              "  "
            ]
          },
          "metadata": {},
          "execution_count": 34
        }
      ]
    },
    {
      "cell_type": "code",
      "source": [
        "# Plot of predictions\n",
        "fig, ax = plt.subplots(figsize=(12, 6))\n",
        "test['USD'].plot(ax=ax, label='test')\n",
        "predictions['pred'].plot(ax=ax, label='predictions')\n",
        "ax.legend();"
      ],
      "metadata": {
        "colab": {
          "base_uri": "https://localhost:8080/",
          "height": 388
        },
        "id": "dT2quj_yFnTr",
        "outputId": "5f217818-6a2d-4567-b46f-c024b9e4f055"
      },
      "execution_count": null,
      "outputs": [
        {
          "output_type": "display_data",
          "data": {
            "text/plain": [
              "<Figure size 864x432 with 1 Axes>"
            ],
            "image/png": "[encoded data removed]"
          },
          "metadata": {
            "needs_background": "light"
          }
        }
      ]
    },
    {
      "cell_type": "code",
      "source": [
        ""
      ],
      "metadata": {
        "id": "zYBJv7ahFuNR"
      },
      "execution_count": null,
      "outputs": []
    }
  ]
}