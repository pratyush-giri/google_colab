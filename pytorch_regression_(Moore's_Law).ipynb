{
  "nbformat": 4,
  "nbformat_minor": 0,
  "metadata": {
    "colab": {
      "name": "pytorch regression (Moore's Law).ipynb",
      "provenance": []
    },
    "kernelspec": {
      "name": "python3",
      "display_name": "Python 3"
    },
    "language_info": {
      "name": "python"
    }
  },
  "cells": [
    {
      "cell_type": "code",
      "execution_count": null,
      "metadata": {
        "id": "VBXcd9vPnx1_"
      },
      "outputs": [],
      "source": [
        "import torch\n",
        "import torch.nn as nn\n",
        "import pandas as pd\n",
        "import numpy as np\n",
        "import matplotlib.pyplot as plt"
      ]
    },
    {
      "cell_type": "code",
      "source": [
        "!wget -nc https://raw.githubusercontent.com/lazyprogrammer/machine_learning_examples/master/tf2.0/moore.csv\n",
        "\n"
      ],
      "metadata": {
        "colab": {
          "base_uri": "https://localhost:8080/"
        },
        "id": "e2MZAgiSoEuu",
        "outputId": "d41d97fc-a497-4985-a768-7b920e520d0c"
      },
      "execution_count": null,
      "outputs": [
        {
          "output_type": "stream",
          "name": "stdout",
          "text": [
            "--2022-06-16 03:48:37--  https://raw.githubusercontent.com/lazyprogrammer/machine_learning_examples/master/tf2.0/moore.csv\n",
            "Resolving raw.githubusercontent.com (raw.githubusercontent.com)... 185.199.109.133, 185.199.110.133, 185.199.108.133, ...\n",
            "Connecting to raw.githubusercontent.com (raw.githubusercontent.com)|185.199.109.133|:443... connected.\n",
            "HTTP request sent, awaiting response... 200 OK\n",
            "Length: 2302 (2.2K) [text/plain]\n",
            "Saving to: ‘moore.csv’\n",
            "\n",
            "\rmoore.csv             0%[                    ]       0  --.-KB/s               \rmoore.csv           100%[===================>]   2.25K  --.-KB/s    in 0s      \n",
            "\n",
            "2022-06-16 03:48:38 (29.7 MB/s) - ‘moore.csv’ saved [2302/2302]\n",
            "\n"
          ]
        }
      ]
    },
    {
      "cell_type": "code",
      "source": [
        "data = pd.read_csv(\"moore.csv\",header =None).values\n",
        "X = data[:,0].reshape(-1,1)\n",
        "Y = data[:,1].reshape(-1,1)"
      ],
      "metadata": {
        "id": "pakLrqlkoI6O"
      },
      "execution_count": null,
      "outputs": []
    },
    {
      "cell_type": "code",
      "source": [
        "plt.scatter(X,Y);"
      ],
      "metadata": {
        "colab": {
          "base_uri": "https://localhost:8080/",
          "height": 276
        },
        "id": "6zIw-hxyojhu",
        "outputId": "539d88a9-9d6a-40d2-a648-2a413e692204"
      },
      "execution_count": null,
      "outputs": [
        {
          "output_type": "display_data",
          "data": {
            "text/plain": [
              "<Figure size 432x288 with 1 Axes>"
            ],
            "image/png": "[encoded data removed]"
          },
          "metadata": {
            "needs_background": "light"
          }
        }
      ]
    },
    {
      "cell_type": "code",
      "source": [
        "# we want a linear model ,so taking log of Y\n",
        "Y = np.log(Y)\n",
        "plt.scatter(X,Y)\n"
      ],
      "metadata": {
        "colab": {
          "base_uri": "https://localhost:8080/",
          "height": 283
        },
        "id": "qrdXc57ColO_",
        "outputId": "29ccfcc4-ca90-44dc-ea9a-6cd95f94cbd5"
      },
      "execution_count": null,
      "outputs": [
        {
          "output_type": "execute_result",
          "data": {
            "text/plain": [
              "<matplotlib.collections.PathCollection at 0x7f38cb348790>"
            ]
          },
          "metadata": {},
          "execution_count": 10
        },
        {
          "output_type": "display_data",
          "data": {
            "text/plain": [
              "<Figure size 432x288 with 1 Axes>"
            ],
            "image/png": "[encoded data removed]"
          },
          "metadata": {
            "needs_background": "light"
          }
        }
      ]
    },
    {
      "cell_type": "code",
      "source": [
        "#scaling the data\n",
        "mx = X.mean()\n",
        "sx = X.std()\n",
        "my = Y.mean()\n",
        "sy = Y.std()\n",
        "X = (X-mx)/sx\n",
        "Y = (Y-my)/sy"
      ],
      "metadata": {
        "id": "JhiJQjYMqE3o"
      },
      "execution_count": null,
      "outputs": []
    },
    {
      "cell_type": "code",
      "source": [
        "plt.scatter(X,Y)"
      ],
      "metadata": {
        "colab": {
          "base_uri": "https://localhost:8080/",
          "height": 283
        },
        "id": "Ljt61986qdyY",
        "outputId": "21cb9c7a-a878-46a8-b2bc-13046c6e6211"
      },
      "execution_count": null,
      "outputs": [
        {
          "output_type": "execute_result",
          "data": {
            "text/plain": [
              "<matplotlib.collections.PathCollection at 0x7f38cb278ed0>"
            ]
          },
          "metadata": {},
          "execution_count": 12
        },
        {
          "output_type": "display_data",
          "data": {
            "text/plain": [
              "<Figure size 432x288 with 1 Axes>"
            ],
            "image/png": "[encoded data removed]"
          },
          "metadata": {
            "needs_background": "light"
          }
        }
      ]
    },
    {
      "cell_type": "code",
      "source": [
        "# cast to float32\n",
        "X = X.astype(np.float32)\n",
        "Y = Y.astype(np.float32)"
      ],
      "metadata": {
        "id": "q6Zmma0sqhHC"
      },
      "execution_count": null,
      "outputs": []
    },
    {
      "cell_type": "code",
      "source": [
        "# create the linear regression model\n",
        "model = nn.Linear(1,1)"
      ],
      "metadata": {
        "id": "tH1UEyygrClj"
      },
      "execution_count": null,
      "outputs": []
    },
    {
      "cell_type": "code",
      "source": [
        "#loss and optimizer\n",
        "criterion = nn.MSELoss()\n",
        "optimizer = torch.optim.SGD(model.parameters(),lr=0.01,momentum=0.7)"
      ],
      "metadata": {
        "id": "ZJxVLrTyrX64"
      },
      "execution_count": null,
      "outputs": []
    },
    {
      "cell_type": "code",
      "source": [
        "inputs = torch.from_numpy(X)\n",
        "targets = torch.from_numpy(Y)"
      ],
      "metadata": {
        "id": "oQ2sp-S8r-kq"
      },
      "execution_count": null,
      "outputs": []
    },
    {
      "cell_type": "code",
      "source": [
        "type(inputs)"
      ],
      "metadata": {
        "colab": {
          "base_uri": "https://localhost:8080/"
        },
        "id": "1HHOqkAYsGqP",
        "outputId": "94b6281c-c6e1-4047-a41e-8c211b5f2a96"
      },
      "execution_count": null,
      "outputs": [
        {
          "output_type": "execute_result",
          "data": {
            "text/plain": [
              "torch.Tensor"
            ]
          },
          "metadata": {},
          "execution_count": 18
        }
      ]
    },
    {
      "cell_type": "code",
      "source": [
        "# train the model\n",
        "n_epochs = 100\n",
        "losses = []\n",
        "\n",
        "for it in range(n_epochs):\n",
        "  # zero the parameter gradient\n",
        "  optimizer.zero_grad()\n",
        "\n",
        "  # calculating the loss\n",
        "  outputs = model(inputs)\n",
        "  loss = criterion(outputs,targets)\n",
        "  #record the loss\n",
        "  losses.append(loss.item())\n",
        "\n",
        "  # Backward and optimize\n",
        "  loss.backward()\n",
        "  optimizer.step()\n",
        "\n",
        "  print(f\"Epoch {it+1}/{n_epochs},loss:{loss.item():.4f}\")\n",
        "\n",
        "\n",
        "\n",
        "\n",
        "\n",
        "\n",
        "\n",
        "\n",
        "\n",
        "\n",
        "\n"
      ],
      "metadata": {
        "colab": {
          "base_uri": "https://localhost:8080/"
        },
        "id": "gS50aptpsYVx",
        "outputId": "0fc6d538-1cfa-4769-fb10-389f092e91b1"
      },
      "execution_count": null,
      "outputs": [
        {
          "output_type": "stream",
          "name": "stdout",
          "text": [
            "Epoch 1/100,loss:0.2523\n",
            "Epoch 2/100,loss:0.2438\n",
            "Epoch 3/100,loss:0.2300\n",
            "Epoch 4/100,loss:0.2132\n",
            "Epoch 5/100,loss:0.1952\n",
            "Epoch 6/100,loss:0.1772\n",
            "Epoch 7/100,loss:0.1601\n",
            "Epoch 8/100,loss:0.1441\n",
            "Epoch 9/100,loss:0.1297\n",
            "Epoch 10/100,loss:0.1168\n",
            "Epoch 11/100,loss:0.1054\n",
            "Epoch 12/100,loss:0.0955\n",
            "Epoch 13/100,loss:0.0869\n",
            "Epoch 14/100,loss:0.0795\n",
            "Epoch 15/100,loss:0.0731\n",
            "Epoch 16/100,loss:0.0677\n",
            "Epoch 17/100,loss:0.0631\n",
            "Epoch 18/100,loss:0.0592\n",
            "Epoch 19/100,loss:0.0559\n",
            "Epoch 20/100,loss:0.0531\n",
            "Epoch 21/100,loss:0.0508\n",
            "Epoch 22/100,loss:0.0488\n",
            "Epoch 23/100,loss:0.0471\n",
            "Epoch 24/100,loss:0.0457\n",
            "Epoch 25/100,loss:0.0446\n",
            "Epoch 26/100,loss:0.0436\n",
            "Epoch 27/100,loss:0.0428\n",
            "Epoch 28/100,loss:0.0421\n",
            "Epoch 29/100,loss:0.0415\n",
            "Epoch 30/100,loss:0.0410\n",
            "Epoch 31/100,loss:0.0406\n",
            "Epoch 32/100,loss:0.0402\n",
            "Epoch 33/100,loss:0.0400\n",
            "Epoch 34/100,loss:0.0397\n",
            "Epoch 35/100,loss:0.0395\n",
            "Epoch 36/100,loss:0.0393\n",
            "Epoch 37/100,loss:0.0392\n",
            "Epoch 38/100,loss:0.0391\n",
            "Epoch 39/100,loss:0.0390\n",
            "Epoch 40/100,loss:0.0389\n",
            "Epoch 41/100,loss:0.0388\n",
            "Epoch 42/100,loss:0.0388\n",
            "Epoch 43/100,loss:0.0387\n",
            "Epoch 44/100,loss:0.0387\n",
            "Epoch 45/100,loss:0.0387\n",
            "Epoch 46/100,loss:0.0386\n",
            "Epoch 47/100,loss:0.0386\n",
            "Epoch 48/100,loss:0.0386\n",
            "Epoch 49/100,loss:0.0386\n",
            "Epoch 50/100,loss:0.0386\n",
            "Epoch 51/100,loss:0.0385\n",
            "Epoch 52/100,loss:0.0385\n",
            "Epoch 53/100,loss:0.0385\n",
            "Epoch 54/100,loss:0.0385\n",
            "Epoch 55/100,loss:0.0385\n",
            "Epoch 56/100,loss:0.0385\n",
            "Epoch 57/100,loss:0.0385\n",
            "Epoch 58/100,loss:0.0385\n",
            "Epoch 59/100,loss:0.0385\n",
            "Epoch 60/100,loss:0.0385\n",
            "Epoch 61/100,loss:0.0385\n",
            "Epoch 62/100,loss:0.0385\n",
            "Epoch 63/100,loss:0.0385\n",
            "Epoch 64/100,loss:0.0385\n",
            "Epoch 65/100,loss:0.0385\n",
            "Epoch 66/100,loss:0.0385\n",
            "Epoch 67/100,loss:0.0385\n",
            "Epoch 68/100,loss:0.0385\n",
            "Epoch 69/100,loss:0.0385\n",
            "Epoch 70/100,loss:0.0385\n",
            "Epoch 71/100,loss:0.0385\n",
            "Epoch 72/100,loss:0.0385\n",
            "Epoch 73/100,loss:0.0385\n",
            "Epoch 74/100,loss:0.0385\n",
            "Epoch 75/100,loss:0.0385\n",
            "Epoch 76/100,loss:0.0385\n",
            "Epoch 77/100,loss:0.0385\n",
            "Epoch 78/100,loss:0.0385\n",
            "Epoch 79/100,loss:0.0385\n",
            "Epoch 80/100,loss:0.0385\n",
            "Epoch 81/100,loss:0.0385\n",
            "Epoch 82/100,loss:0.0385\n",
            "Epoch 83/100,loss:0.0385\n",
            "Epoch 84/100,loss:0.0385\n",
            "Epoch 85/100,loss:0.0385\n",
            "Epoch 86/100,loss:0.0385\n",
            "Epoch 87/100,loss:0.0385\n",
            "Epoch 88/100,loss:0.0385\n",
            "Epoch 89/100,loss:0.0385\n",
            "Epoch 90/100,loss:0.0385\n",
            "Epoch 91/100,loss:0.0385\n",
            "Epoch 92/100,loss:0.0385\n",
            "Epoch 93/100,loss:0.0385\n",
            "Epoch 94/100,loss:0.0385\n",
            "Epoch 95/100,loss:0.0385\n",
            "Epoch 96/100,loss:0.0385\n",
            "Epoch 97/100,loss:0.0385\n",
            "Epoch 98/100,loss:0.0385\n",
            "Epoch 99/100,loss:0.0385\n",
            "Epoch 100/100,loss:0.0385\n"
          ]
        }
      ]
    },
    {
      "cell_type": "code",
      "source": [
        "plt.plot(losses)"
      ],
      "metadata": {
        "colab": {
          "base_uri": "https://localhost:8080/",
          "height": 283
        },
        "id": "rf6BCfUew5Za",
        "outputId": "d540b292-5252-4dd7-85e7-e8993640953c"
      },
      "execution_count": null,
      "outputs": [
        {
          "output_type": "execute_result",
          "data": {
            "text/plain": [
              "[<matplotlib.lines.Line2D at 0x7f38ca9545d0>]"
            ]
          },
          "metadata": {},
          "execution_count": 20
        },
        {
          "output_type": "display_data",
          "data": {
            "text/plain": [
              "<Figure size 432x288 with 1 Axes>"
            ],
            "image/png": "[encoded data removed]"
          },
          "metadata": {
            "needs_background": "light"
          }
        }
      ]
    },
    {
      "cell_type": "code",
      "source": [
        "predicted = model(torch.from_numpy(X)).detach().numpy()\n",
        "plt.plot(X,Y,'ro',label=\"original data\")\n",
        "plt.plot(X,predicted,label=\"Fitted line\")\n",
        "plt.legend()\n"
      ],
      "metadata": {
        "colab": {
          "base_uri": "https://localhost:8080/",
          "height": 283
        },
        "id": "PQF1sbP0xC00",
        "outputId": "4b177248-e891-4141-9046-7d3e4062b259"
      },
      "execution_count": null,
      "outputs": [
        {
          "output_type": "execute_result",
          "data": {
            "text/plain": [
              "<matplotlib.legend.Legend at 0x7f38ca8c4a50>"
            ]
          },
          "metadata": {},
          "execution_count": 21
        },
        {
          "output_type": "display_data",
          "data": {
            "text/plain": [
              "<Figure size 432x288 with 1 Axes>"
            ],
            "image/png": "[encoded data removed]"
          },
          "metadata": {
            "needs_background": "light"
          }
        }
      ]
    },
    {
      "cell_type": "code",
      "source": [
        "# getting the best weights\n",
        "w = model.weight.data.numpy()\n",
        "w"
      ],
      "metadata": {
        "colab": {
          "base_uri": "https://localhost:8080/"
        },
        "id": "LM4c-a-XxxKh",
        "outputId": "2e4ae891-15d9-468a-bf1a-4e63c4d5b290"
      },
      "execution_count": null,
      "outputs": [
        {
          "output_type": "execute_result",
          "data": {
            "text/plain": [
              "array([[0.98050267]], dtype=float32)"
            ]
          },
          "metadata": {},
          "execution_count": 23
        }
      ]
    },
    {
      "cell_type": "markdown",
      "source": [
        " "
      ],
      "metadata": {
        "id": "QX94KH22zeIx"
      }
    },
    {
      "cell_type": "code",
      "source": [
        ""
      ],
      "metadata": {
        "id": "cqjcNMmBzT9r"
      },
      "execution_count": null,
      "outputs": []
    }
  ]
}