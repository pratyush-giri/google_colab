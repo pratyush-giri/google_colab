{
  "nbformat": 4,
  "nbformat_minor": 0,
  "metadata": {
    "colab": {
      "name": "CIFAR_image_classification.ipynb",
      "provenance": []
    },
    "kernelspec": {
      "name": "python3",
      "display_name": "Python 3"
    },
    "language_info": {
      "name": "python"
    }
  },
  "cells": [
    {
      "cell_type": "code",
      "execution_count": null,
      "metadata": {
        "id": "LYuW-gOpUakU"
      },
      "outputs": [],
      "source": [
        "import tensorflow as tf\n",
        "from tensorflow.keras import models,datasets,layers\n",
        "import pandas as pd\n",
        "import numpy as np\n",
        "import matplotlib.pyplot as plt\n"
      ]
    },
    {
      "cell_type": "code",
      "source": [
        "(X_train,y_train),(X_test,y_test) = datasets.cifar10.load_data()"
      ],
      "metadata": {
        "colab": {
          "base_uri": "https://localhost:8080/"
        },
        "id": "_IGeaCZZU6of",
        "outputId": "9f9c9abb-178d-4e36-bef1-08daa68d46ff"
      },
      "execution_count": null,
      "outputs": [
        {
          "output_type": "stream",
          "name": "stdout",
          "text": [
            "Downloading data from https://www.cs.toronto.edu/~kriz/cifar-10-python.tar.gz\n",
            "170500096/170498071 [==============================] - 2s 0us/step\n",
            "170508288/170498071 [==============================] - 2s 0us/step\n"
          ]
        }
      ]
    },
    {
      "cell_type": "code",
      "source": [
        "X_train.shape"
      ],
      "metadata": {
        "colab": {
          "base_uri": "https://localhost:8080/"
        },
        "id": "2kLP7Y2VVLjJ",
        "outputId": "3328e725-7e1d-4ddf-b325-53a772f25e12"
      },
      "execution_count": null,
      "outputs": [
        {
          "output_type": "execute_result",
          "data": {
            "text/plain": [
              "(50000, 32, 32, 3)"
            ]
          },
          "metadata": {},
          "execution_count": 3
        }
      ]
    },
    {
      "cell_type": "code",
      "source": [
        "plt.imshow(X_train[2\n",
        "                   ])"
      ],
      "metadata": {
        "colab": {
          "base_uri": "https://localhost:8080/",
          "height": 283
        },
        "id": "3D7Eykf9VPFp",
        "outputId": "dc6a51f3-5aa0-4b26-ca9b-107672e61028"
      },
      "execution_count": null,
      "outputs": [
        {
          "output_type": "execute_result",
          "data": {
            "text/plain": [
              "<matplotlib.image.AxesImage at 0x7f89266a9850>"
            ]
          },
          "metadata": {},
          "execution_count": 4
        },
        {
          "output_type": "display_data",
          "data": {
            "image/png": "[encoded data removed]",
            "text/plain": [
              "<Figure size 432x288 with 1 Axes>"
            ]
          },
          "metadata": {
            "needs_background": "light"
          }
        }
      ]
    },
    {
      "cell_type": "code",
      "source": [
        "y_train[:5]"
      ],
      "metadata": {
        "colab": {
          "base_uri": "https://localhost:8080/"
        },
        "id": "ooFhrFkqVsfk",
        "outputId": "38e1f953-de88-4db6-f7c8-ed7ed6d14f58"
      },
      "execution_count": null,
      "outputs": [
        {
          "output_type": "execute_result",
          "data": {
            "text/plain": [
              "array([[6],\n",
              "       [9],\n",
              "       [9],\n",
              "       [4],\n",
              "       [1]], dtype=uint8)"
            ]
          },
          "metadata": {},
          "execution_count": 5
        }
      ]
    },
    {
      "cell_type": "code",
      "source": [
        "y_train = y_train.reshape(-1,)"
      ],
      "metadata": {
        "id": "DCCDXWv3WzO5"
      },
      "execution_count": null,
      "outputs": []
    },
    {
      "cell_type": "code",
      "source": [
        "classes = [\"airplane\",'automobile','bird','cat','deer','dog','frog','horse','ship','truck']"
      ],
      "metadata": {
        "id": "eLB76-64XKfT"
      },
      "execution_count": null,
      "outputs": []
    },
    {
      "cell_type": "code",
      "source": [
        "def plot_sample(X,y,index):\n",
        "  plt.figure(figsize = (15,2))\n",
        "  plt.imshow(X[index])\n",
        "  plt.xlabel(classes[y[index]])"
      ],
      "metadata": {
        "id": "3s00aAObW4BO"
      },
      "execution_count": null,
      "outputs": []
    },
    {
      "cell_type": "code",
      "source": [
        "plot_sample(X_train,y_train,0)"
      ],
      "metadata": {
        "colab": {
          "base_uri": "https://localhost:8080/",
          "height": 173
        },
        "id": "2Sz1klbEXn_-",
        "outputId": "4f1e18ea-954c-474b-b2be-57e29e8ab2d2"
      },
      "execution_count": null,
      "outputs": [
        {
          "output_type": "display_data",
          "data": {
            "image/png": "[encoded data removed]",
            "text/plain": [
              "<Figure size 1080x144 with 1 Axes>"
            ]
          },
          "metadata": {
            "needs_background": "light"
          }
        }
      ]
    },
    {
      "cell_type": "code",
      "source": [
        "X_train = X_train / 255\n",
        "X_test = X_test /255"
      ],
      "metadata": {
        "id": "BSr9eZZ8Xtzx"
      },
      "execution_count": null,
      "outputs": []
    },
    {
      "cell_type": "code",
      "source": [
        " ann = models.Sequential([\n",
        "       layers.Flatten(input_shape=(32,32,3)),\n",
        "       layers.Dense(3000,activation='relu'),\n",
        "       layers.Dense(1000,activation = 'relu'),\n",
        "       layers.Dense(10,activation='sigmoid')\n",
        " ])\n",
        "\n",
        "ann.compile(optimizer=\"SGD\",\n",
        "                loss = \"sparse_categorical_crossentropy\",\n",
        "                metrics=[\"accuracy\"])\n",
        "ann.fit(X_train,y_train,epochs=5)\n"
      ],
      "metadata": {
        "colab": {
          "base_uri": "https://localhost:8080/"
        },
        "id": "drR9ezF4ElD0",
        "outputId": "e14cc4db-cf20-478f-eafc-163c4a0c256a"
      },
      "execution_count": null,
      "outputs": [
        {
          "output_type": "stream",
          "name": "stdout",
          "text": [
            "Epoch 1/5\n",
            "1563/1563 [==============================] - 102s 64ms/step - loss: 1.8123 - accuracy: 0.3518\n",
            "Epoch 2/5\n",
            "1563/1563 [==============================] - 98s 63ms/step - loss: 1.6216 - accuracy: 0.4278\n",
            "Epoch 3/5\n",
            "1563/1563 [==============================] - 97s 62ms/step - loss: 1.5406 - accuracy: 0.4549\n",
            "Epoch 4/5\n",
            "1563/1563 [==============================] - 101s 65ms/step - loss: 1.4806 - accuracy: 0.4779\n",
            "Epoch 5/5\n",
            "1563/1563 [==============================] - 103s 66ms/step - loss: 1.4319 - accuracy: 0.4954\n"
          ]
        },
        {
          "output_type": "execute_result",
          "data": {
            "text/plain": [
              "<keras.callbacks.History at 0x7fd9b5733d90>"
            ]
          },
          "metadata": {},
          "execution_count": 11
        }
      ]
    },
    {
      "cell_type": "code",
      "source": [
        "from sklearn.metrics import confusion_matrix,classification_report\n",
        "import numpy as np\n",
        "y_pred = ann.predict(X_test)\n",
        "y_pred_classes = [np.argmax(element) for element in y_pred]\n",
        "\n",
        "print(\"classification report:\\n\",classification_report(y_test,y_pred_classes))"
      ],
      "metadata": {
        "id": "jo9RDRmAGpPW",
        "colab": {
          "base_uri": "https://localhost:8080/"
        },
        "outputId": "c20cbefa-cbf4-4ac1-991b-ef842844e95c"
      },
      "execution_count": null,
      "outputs": [
        {
          "output_type": "stream",
          "name": "stdout",
          "text": [
            "classification report:\n",
            "               precision    recall  f1-score   support\n",
            "\n",
            "           0       0.61      0.49      0.54      1000\n",
            "           1       0.55      0.68      0.61      1000\n",
            "           2       0.52      0.11      0.18      1000\n",
            "           3       0.38      0.20      0.26      1000\n",
            "           4       0.49      0.23      0.31      1000\n",
            "           5       0.39      0.37      0.38      1000\n",
            "           6       0.59      0.41      0.48      1000\n",
            "           7       0.25      0.88      0.38      1000\n",
            "           8       0.69      0.55      0.61      1000\n",
            "           9       0.60      0.48      0.53      1000\n",
            "\n",
            "    accuracy                           0.44     10000\n",
            "   macro avg       0.51      0.44      0.43     10000\n",
            "weighted avg       0.51      0.44      0.43     10000\n",
            "\n"
          ]
        }
      ]
    },
    {
      "cell_type": "code",
      "source": [
        "cnn = models.Sequential([\n",
        "                        #cnn\n",
        "                        layers.Conv2D(filters=32,activation=\"relu\",kernel_size= (3,3),input_shape=(32,32,3)),\n",
        "                        layers.MaxPooling2D((2,2)),\n",
        "\n",
        "                        layers.Conv2D(filters=64,activation=\"relu\",kernel_size= (3,3)),\n",
        "                        layers.MaxPooling2D((2,2)),\n",
        "                         \n",
        "                        #dense\n",
        "                        layers.Flatten(),\n",
        "                        layers.Dense(64,activation = \"relu\"),\n",
        "                        layers.Dense(10,activation= \"softmax\")\n",
        "])"
      ],
      "metadata": {
        "id": "qEaqNbQPXiHJ"
      },
      "execution_count": null,
      "outputs": []
    },
    {
      "cell_type": "code",
      "source": [
        "cnn.compile(optimizer='adam',\n",
        "              loss= \"sparse_categorical_crossentropy\",\n",
        "              metrics=[\"accuracy\"])"
      ],
      "metadata": {
        "id": "pbMjfNiFZzJx"
      },
      "execution_count": null,
      "outputs": []
    },
    {
      "cell_type": "code",
      "source": [
        "cnn.fit(X_train,y_train,epochs=10)"
      ],
      "metadata": {
        "colab": {
          "base_uri": "https://localhost:8080/"
        },
        "id": "2JZuX13baCEu",
        "outputId": "4d173b3e-e874-400d-d0fd-c56662d5c69a"
      },
      "execution_count": null,
      "outputs": [
        {
          "output_type": "stream",
          "name": "stdout",
          "text": [
            "Epoch 1/10\n",
            "1563/1563 [==============================] - 60s 38ms/step - loss: 1.4249 - accuracy: 0.4906\n",
            "Epoch 2/10\n",
            "1563/1563 [==============================] - 60s 38ms/step - loss: 1.0821 - accuracy: 0.6228\n",
            "Epoch 3/10\n",
            "1563/1563 [==============================] - 60s 38ms/step - loss: 0.9506 - accuracy: 0.6706\n",
            "Epoch 4/10\n",
            "1563/1563 [==============================] - 60s 39ms/step - loss: 0.8648 - accuracy: 0.7006\n",
            "Epoch 5/10\n",
            "1563/1563 [==============================] - 60s 39ms/step - loss: 0.7897 - accuracy: 0.7249\n",
            "Epoch 6/10\n",
            "1563/1563 [==============================] - 61s 39ms/step - loss: 0.7297 - accuracy: 0.7469\n",
            "Epoch 7/10\n",
            "1563/1563 [==============================] - 61s 39ms/step - loss: 0.6782 - accuracy: 0.7649\n",
            "Epoch 8/10\n",
            "1563/1563 [==============================] - 60s 39ms/step - loss: 0.6361 - accuracy: 0.7784\n",
            "Epoch 9/10\n",
            "1563/1563 [==============================] - 60s 39ms/step - loss: 0.5908 - accuracy: 0.7930\n",
            "Epoch 10/10\n",
            "1563/1563 [==============================] - 59s 38ms/step - loss: 0.5552 - accuracy: 0.8061\n"
          ]
        },
        {
          "output_type": "execute_result",
          "data": {
            "text/plain": [
              "<keras.callbacks.History at 0x7f8921f52450>"
            ]
          },
          "metadata": {},
          "execution_count": 13
        }
      ]
    },
    {
      "cell_type": "code",
      "source": [
        "cnn.evaluate(X_test,y_test)"
      ],
      "metadata": {
        "colab": {
          "base_uri": "https://localhost:8080/"
        },
        "id": "qqT-5dPIaMlZ",
        "outputId": "faa566ad-75af-4804-cf3b-a04bd2f15b82"
      },
      "execution_count": null,
      "outputs": [
        {
          "output_type": "stream",
          "name": "stdout",
          "text": [
            "313/313 [==============================] - 4s 11ms/step - loss: 0.9122 - accuracy: 0.7110\n"
          ]
        },
        {
          "output_type": "execute_result",
          "data": {
            "text/plain": [
              "[0.9121812582015991, 0.7110000252723694]"
            ]
          },
          "metadata": {},
          "execution_count": 14
        }
      ]
    },
    {
      "cell_type": "code",
      "source": [
        "y_test = y_test.reshape(-1,)\n",
        "y_test[:5]"
      ],
      "metadata": {
        "id": "Yybokw6ed2R_",
        "colab": {
          "base_uri": "https://localhost:8080/"
        },
        "outputId": "0069619b-eac6-4559-d40d-e48a47eefa9a"
      },
      "execution_count": null,
      "outputs": [
        {
          "output_type": "execute_result",
          "data": {
            "text/plain": [
              "array([3, 8, 8, 0, 6], dtype=uint8)"
            ]
          },
          "metadata": {},
          "execution_count": 15
        }
      ]
    },
    {
      "cell_type": "code",
      "source": [
        "plot_sample(X_test,y_test,0)"
      ],
      "metadata": {
        "colab": {
          "base_uri": "https://localhost:8080/",
          "height": 173
        },
        "id": "QQdgwHoUTU2y",
        "outputId": "c5b92a7d-113c-4995-f254-30814248ac2d"
      },
      "execution_count": null,
      "outputs": [
        {
          "output_type": "display_data",
          "data": {
            "image/png": "[encoded data removed]",
            "text/plain": [
              "<Figure size 1080x144 with 1 Axes>"
            ]
          },
          "metadata": {
            "needs_background": "light"
          }
        }
      ]
    },
    {
      "cell_type": "code",
      "source": [
        "y_preds = cnn.predict(X_test)\n",
        "y_preds[:5]"
      ],
      "metadata": {
        "colab": {
          "base_uri": "https://localhost:8080/"
        },
        "id": "l4kAuE0NTaCx",
        "outputId": "d71ea512-39d0-4eda-d81d-a0a49d7e84a6"
      },
      "execution_count": null,
      "outputs": [
        {
          "output_type": "execute_result",
          "data": {
            "text/plain": [
              "array([[1.9284744e-03, 9.4578281e-06, 1.0711759e-02, 7.8587413e-01,\n",
              "        4.2654417e-02, 9.4649866e-02, 5.7255853e-02, 4.4734366e-03,\n",
              "        1.3197948e-03, 1.1227706e-03],\n",
              "       [1.6968041e-04, 3.2258943e-02, 1.2240989e-07, 5.5248421e-07,\n",
              "        5.1029274e-09, 4.9041038e-10, 8.5481663e-11, 3.8947306e-10,\n",
              "        9.6748692e-01, 8.3780680e-05],\n",
              "       [1.3220683e-01, 4.8981361e-02, 2.4909561e-02, 5.5373088e-03,\n",
              "        1.4888095e-03, 2.2526587e-04, 4.3792292e-04, 2.0811022e-03,\n",
              "        7.7139300e-01, 1.2738829e-02],\n",
              "       [9.1432869e-01, 1.1542462e-02, 2.9861280e-03, 1.3617261e-03,\n",
              "        6.0197734e-04, 1.9597497e-05, 7.0697342e-06, 1.9999437e-03,\n",
              "        6.6914260e-02, 2.3822580e-04],\n",
              "       [3.9239595e-07, 3.0485064e-06, 1.3818889e-02, 5.8235480e-03,\n",
              "        1.4248528e-02, 8.2989031e-04, 9.6526796e-01, 4.4479621e-06,\n",
              "        3.3746753e-06, 9.0607671e-08]], dtype=float32)"
            ]
          },
          "metadata": {},
          "execution_count": 17
        }
      ]
    },
    {
      "cell_type": "code",
      "source": [
        "y_classes = [np.argmax(element) for element in y_preds]\n",
        "y_classes[:5]"
      ],
      "metadata": {
        "colab": {
          "base_uri": "https://localhost:8080/"
        },
        "id": "ybqnUGeETnXl",
        "outputId": "faf20f0c-4ff1-483b-b792-a5b97fe63d6a"
      },
      "execution_count": null,
      "outputs": [
        {
          "output_type": "execute_result",
          "data": {
            "text/plain": [
              "[3, 8, 8, 0, 6]"
            ]
          },
          "metadata": {},
          "execution_count": 19
        }
      ]
    },
    {
      "cell_type": "code",
      "source": [
        "classes[y_classes[0]]"
      ],
      "metadata": {
        "colab": {
          "base_uri": "https://localhost:8080/",
          "height": 35
        },
        "id": "2hylwAtIUKAS",
        "outputId": "4fdb5530-3805-49e6-d26e-63e4f35c1893"
      },
      "execution_count": null,
      "outputs": [
        {
          "output_type": "execute_result",
          "data": {
            "application/vnd.google.colaboratory.intrinsic+json": {
              "type": "string"
            },
            "text/plain": [
              "'cat'"
            ]
          },
          "metadata": {},
          "execution_count": 20
        }
      ]
    },
    {
      "cell_type": "code",
      "source": [
        ""
      ],
      "metadata": {
        "id": "Pg_MdzCfUrux"
      },
      "execution_count": null,
      "outputs": []
    }
  ]
}